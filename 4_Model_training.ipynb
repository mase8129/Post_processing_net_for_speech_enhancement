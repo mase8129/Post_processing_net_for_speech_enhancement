{
 "cells": [
  {
   "attachments": {},
   "cell_type": "markdown",
   "metadata": {},
   "source": [
    "# Load tfrecords, define model and train"
   ]
  },
  {
   "cell_type": "code",
   "execution_count": 25,
   "metadata": {},
   "outputs": [
    {
     "name": "stdout",
     "output_type": "stream",
     "text": [
      "Tensorflow Version: 2.9.1\n",
      "The tensorboard extension is already loaded. To reload it, use:\n",
      "  %reload_ext tensorboard\n",
      "GPU not available :(\n"
     ]
    }
   ],
   "source": [
    "# Dependencies\n",
    "\n",
    " # TensorFlow and tf.keras\n",
    "import tensorflow as tf\n",
    "print('Tensorflow Version:', tf.__version__)\n",
    "from tensorflow import keras\n",
    "from keras import layers\n",
    "from keras import models\n",
    "\n",
    "#Tensorboard\n",
    "%load_ext tensorboard\n",
    "\n",
    "\n",
    "# Helper libraries\n",
    "import os\n",
    "import os.path\n",
    "import glob\n",
    "import librosa\n",
    "import librosa.display\n",
    "import json\n",
    "from pathlib import Path\n",
    "import matplotlib.pyplot as plt\n",
    "import numpy as np\n",
    "import IPython.display as pd\n",
    "import pprint\n",
    "import datetime        \n",
    "from scipy.io.wavfile import write\n",
    "\n",
    "\n",
    "# Check if the GPU is available (otherwise computing will take a looooonnnnggggg time)\n",
    "print(\"GPU\", \"available (YESS!!!!)\" if tf.config.list_physical_devices(\"GPU\") else \"not available :(\")\n",
    "\n"
   ]
  },
  {
   "cell_type": "code",
   "execution_count": 41,
   "metadata": {},
   "outputs": [
    {
     "name": "stdout",
     "output_type": "stream",
     "text": [
      "{\n",
      "    \"batch_size\": 16,\n",
      "    \"filter_size\": 12,\n",
      "    \"fps_noisy\": \"/Users/marius/Documents/Uni/TU_Berlin_Master/Masterarbeit/Data/allFiles/noisySpeech\",\n",
      "    \"fps_produced\": \"/Users/marius/Documents/Uni/TU_Berlin_Master/Masterarbeit/Data/allFiles/producedSpeech\",\n",
      "    \"fps_voicefixer\": \"/Users/marius/Documents/Uni/TU_Berlin_Master/Masterarbeit/Data/allFiles/voicefixerOutput\",\n",
      "    \"hop_length\": 64,\n",
      "    \"input_shape\": [\n",
      "        441000,\n",
      "        1\n",
      "    ],\n",
      "    \"kernel_size\": 4,\n",
      "    \"n_epochs\": 2,\n",
      "    \"n_fft\": 512,\n",
      "    \"n_mels\": 16,\n",
      "    \"offset\": 6,\n",
      "    \"sample_length\": 20,\n",
      "    \"shuffle_buffer_size\": 300,\n",
      "    \"sr\": 44100,\n",
      "    \"test_dataset_path\": \"../Dataset/test.tfrecord\",\n",
      "    \"train_dataset_path\": \"../Dataset/train.tfrecord\",\n",
      "    \"win_length\": 512\n",
      "}\n"
     ]
    }
   ],
   "source": [
    "# load global settings in config-dictionary\n",
    "with open('./MA_CONFIG.json', 'r') as fp:\n",
    "  config = json.load(fp)\n",
    "\n",
    "# define some extra values\n",
    "config['batch_size'] = 16\n",
    "config['shuffle_buffer_size'] = 300\n",
    "config['n_epochs'] = 2\n",
    "config['filter_size'] = 12\n",
    "config['kernel_size'] = 4\n",
    "\n",
    "# print config\n",
    "print(json.dumps(config, indent=4))\n",
    "\n",
    "# save config to disk\n",
    "with open('./MA_CONFIG.json', 'w+') as fp:\n",
    "    json.dump(config, fp, sort_keys=True, indent=4)\n"
   ]
  },
  {
   "attachments": {},
   "cell_type": "markdown",
   "metadata": {},
   "source": [
    "# load tfrecords"
   ]
  },
  {
   "attachments": {},
   "cell_type": "markdown",
   "metadata": {},
   "source": [
    "### func for decoding tfrecords"
   ]
  },
  {
   "cell_type": "code",
   "execution_count": 27,
   "metadata": {},
   "outputs": [],
   "source": [
    "# autotune for performance\n",
    "AUTOTUNE = tf.data.experimental.AUTOTUNE\n",
    "\n",
    "# decode tfrecords\n",
    "def decode_tf_records(seralized_example):\n",
    "    feature_description = {\n",
    "        \"voicefixer\": tf.io.FixedLenFeature([], tf.string),\n",
    "        \"produced\": tf.io.FixedLenFeature([], tf.string),\n",
    "    }\n",
    "    example = tf.io.parse_single_example(seralized_example, feature_description)\n",
    "\n",
    "    voicefixer, _ = tf.audio.decode_wav(example[\"voicefixer\"], desired_channels=-1)\n",
    "    produced, _ = tf.audio.decode_wav(example[\"produced\"], desired_channels=-1)\n",
    "    \n",
    "    return voicefixer, produced\n",
    "\n",
    "\n",
    "def slicing_audio(voicefixer, produced):\n",
    "    # generate random integer between 0 and 10*44100-3*44100\n",
    "    random_int = tf.random.uniform(shape=[], minval=0, maxval=7*44100, dtype=tf.int32)\n",
    "    # slice audio\n",
    "    voicefixer = voicefixer[random_int:random_int+3*44100]\n",
    "    produced = produced[random_int:random_int+3*44100]\n",
    "    return voicefixer, produced\n",
    " \n"
   ]
  },
  {
   "cell_type": "code",
   "execution_count": 40,
   "metadata": {},
   "outputs": [
    {
     "name": "stdout",
     "output_type": "stream",
     "text": [
      "Number of elements in train_dataset: 480\n"
     ]
    }
   ],
   "source": [
    "# load train tfrecords\n",
    "tfrecords_paths = glob.glob('/Users/marius/Documents/Uni/TU_Berlin_Master/Masterarbeit/Dataset/train_tfrecords/*.tfrecords')\n",
    "train_dataset = tf.data.TFRecordDataset(tfrecords_paths[:8])\n",
    "train_dataset = train_dataset.map(decode_tf_records, num_parallel_calls=AUTOTUNE)\n",
    "train_dataset = train_dataset.map(slicing_audio, num_parallel_calls=AUTOTUNE)\n",
    "\n",
    "# count elements in train_dataset\n",
    "print(f'Number of elements in train_dataset: {len([d for d in train_dataset])}')\n",
    "\n",
    "# batching and shuffling\n",
    "train_dataset = train_dataset.shuffle(config['shuffle_buffer_size']).batch(config['batch_size'])\n"
   ]
  },
  {
   "cell_type": "code",
   "execution_count": 29,
   "metadata": {},
   "outputs": [
    {
     "name": "stdout",
     "output_type": "stream",
     "text": [
      "Number of elements in test_dataset: 120\n"
     ]
    }
   ],
   "source": [
    "# load test tfrecords\n",
    "tfrecords_paths = glob.glob('/Users/marius/Documents/Uni/TU_Berlin_Master/Masterarbeit/Dataset/test_tfrecords/*.tfrecords')\n",
    "test_dataset = tf.data.TFRecordDataset(tfrecords_paths[:2])\n",
    "test_dataset = test_dataset.map(decode_tf_records, num_parallel_calls=AUTOTUNE)\n",
    "test_dataset = test_dataset.map(slicing_audio, num_parallel_calls=AUTOTUNE)\n",
    "\n",
    "# count elements in test_dataset\n",
    "print(f'Number of elements in test_dataset: {len([d for d in test_dataset])}')\n",
    "\n",
    "# batching and shuffling\n",
    "test_dataset = test_dataset.shuffle(config['shuffle_buffer_size']).batch(config['batch_size'])\n"
   ]
  },
  {
   "cell_type": "code",
   "execution_count": 30,
   "metadata": {},
   "outputs": [
    {
     "name": "stdout",
     "output_type": "stream",
     "text": [
      "(16, 132300, 1)\n",
      "(16, 132300, 1)\n",
      "(16, 132300, 1)\n",
      "(16, 132300, 1)\n"
     ]
    }
   ],
   "source": [
    "# check if datasets are loaded correctly\n",
    "for d in train_dataset:\n",
    "    print(d[0].shape)\n",
    "    print(d[1].shape)\n",
    "    break   \n",
    "\n",
    "for d in test_dataset:\n",
    "    print(d[0].shape)\n",
    "    print(d[1].shape)\n",
    "    break"
   ]
  },
  {
   "attachments": {},
   "cell_type": "markdown",
   "metadata": {},
   "source": [
    "# look at data"
   ]
  },
  {
   "cell_type": "code",
   "execution_count": 12,
   "metadata": {},
   "outputs": [],
   "source": [
    "# # look at some example data from train dataset\n",
    "# wavs = train_dataset.unbatch().as_numpy_iterator()\n",
    "# noisy = []\n",
    "# gt = []\n",
    "\n",
    "# # Setup Subplot\n",
    "# nrows, ncols = 2, 2\n",
    "# fig, ax = plt.subplots(nrows=nrows, ncols=ncols, sharex=True, figsize=(16, 9))\n",
    "\n",
    "\n",
    "# # iterate over dataset\n",
    "# for i, sample in enumerate(wavs):\n",
    "    \n",
    "#     # get the column and row by modulo and remainder\n",
    "#     j = i % ncols\n",
    "#     k = int(i / ncols)\n",
    "    \n",
    "#     # extract noisy and produced speech file from tensors\n",
    "#     wave = sample[0]\n",
    "#     ground_truth = sample[1]\n",
    "        \n",
    "#     # plot files\n",
    "#     librosa.display.waveshow(np.squeeze(wave), x_axis='time', sr=config['sr'], ax=ax[k][j], label='test_file')\n",
    "#     librosa.display.waveshow(np.squeeze(ground_truth), alpha=0.3, x_axis='time', sr=config['sr'], ax=ax[k][j], label='ground_truth')\n",
    "#     ax[k][j].legend()\n",
    "#     ax[k][j].axis('on')\n",
    "#     ax[k][j].set_title('10s speech')  \n",
    "\n",
    "#     # save speech to arrays\n",
    "#     noisy.append(np.squeeze(wave))\n",
    "#     gt.append(np.squeeze(ground_truth))\n",
    "    \n",
    "#     if i+1 == ncols*nrows:\n",
    "#         break\n",
    "    \n",
    "# # adjust whitespace in between subplots        \n",
    "# plt.subplots_adjust(hspace=0.25, wspace=0.15)\n",
    "# plt.show()\n",
    "\n",
    "\n",
    "# # listen to the audio samples\n",
    "# for i in range(len(gt)):\n",
    "#     print(f'----------- {i+1}. speechsnippet ---------------')\n",
    "#     print('')\n",
    "#     print(f'Voicefixer file')\n",
    "#     pd.display(pd.Audio(noisy[i].T, rate=config['sr']))\n",
    "#     print(f'corresponding produced file')\n",
    "#     pd.display(pd.Audio(gt[i].T, rate=config['sr']))\n",
    "#     print('')"
   ]
  },
  {
   "attachments": {},
   "cell_type": "markdown",
   "metadata": {},
   "source": [
    "## Model architecture"
   ]
  },
  {
   "cell_type": "code",
   "execution_count": 44,
   "metadata": {},
   "outputs": [],
   "source": [
    "# some values for the model\n",
    "input_shape = (3*44100, 1)\n",
    "output_channels = 1\n",
    "filter_size = config['filter_size']\n",
    "kernel_size = config['kernel_size']\n",
    "\n",
    "# build model with 12 layers\n",
    "def build_model(input_shape):\n",
    "\n",
    "    # define model\n",
    "    model = keras.Sequential(name='PostNet_Conv1D')\n",
    "    model.add(keras.Input(shape=input_shape))\n",
    "\n",
    "    # add layer \n",
    "    model.add(keras.layers.Conv1D(filters=filter_size, kernel_size=kernel_size, padding='same'))\n",
    "    # add dropout layer, batch normalization and activation layer\n",
    "    model.add(keras.layers.Dropout(0.5))\n",
    "    model.add(keras.layers.BatchNormalization())\n",
    "    model.add(keras.layers.Activation('tanh'))\n",
    "\n",
    "    # Add the remaining Conv1D layers\n",
    "    for _ in range(5):\n",
    "        model.add(keras.layers.Conv1D(filters=filter_size, kernel_size=kernel_size, padding='same'))\n",
    "        # add dropout layer, batch normalization and activation layer\n",
    "        model.add(keras.layers.Dropout(0.5))\n",
    "        model.add(keras.layers.BatchNormalization())\n",
    "        model.add(keras.layers.Activation('tanh'))\n",
    "\n",
    "    # Add the final Conv1D layer without activation layer\n",
    "    model.add(keras.layers.Conv1D(filters=output_channels, kernel_size=1, padding='same'))\n",
    "    model.add(keras.layers.Dropout(0.5))\n",
    "    model.add(keras.layers.BatchNormalization())\n",
    "\n",
    "    return model"
   ]
  },
  {
   "cell_type": "code",
   "execution_count": 45,
   "metadata": {},
   "outputs": [
    {
     "name": "stderr",
     "output_type": "stream",
     "text": [
      "2023-07-05 18:03:38.104594: I tensorflow/core/profiler/lib/profiler_session.cc:99] Profiler session initializing.\n",
      "2023-07-05 18:03:38.104619: I tensorflow/core/profiler/lib/profiler_session.cc:114] Profiler session started.\n",
      "2023-07-05 18:03:38.104807: I tensorflow/core/profiler/lib/profiler_session.cc:126] Profiler session tear down.\n"
     ]
    },
    {
     "name": "stdout",
     "output_type": "stream",
     "text": [
      "Model: \"PostNet_Conv1D\"\n",
      "_________________________________________________________________\n",
      " Layer (type)                Output Shape              Param #   \n",
      "=================================================================\n",
      " conv1d_50 (Conv1D)          (None, 132300, 12)        60        \n",
      "                                                                 \n",
      " dropout_1 (Dropout)         (None, 132300, 12)        0         \n",
      "                                                                 \n",
      " batch_normalization (BatchN  (None, 132300, 12)       48        \n",
      " ormalization)                                                   \n",
      "                                                                 \n",
      " activation_43 (Activation)  (None, 132300, 12)        0         \n",
      "                                                                 \n",
      " conv1d_51 (Conv1D)          (None, 132300, 12)        588       \n",
      "                                                                 \n",
      " dropout_2 (Dropout)         (None, 132300, 12)        0         \n",
      "                                                                 \n",
      " batch_normalization_1 (Batc  (None, 132300, 12)       48        \n",
      " hNormalization)                                                 \n",
      "                                                                 \n",
      " activation_44 (Activation)  (None, 132300, 12)        0         \n",
      "                                                                 \n",
      " conv1d_52 (Conv1D)          (None, 132300, 12)        588       \n",
      "                                                                 \n",
      " dropout_3 (Dropout)         (None, 132300, 12)        0         \n",
      "                                                                 \n",
      " batch_normalization_2 (Batc  (None, 132300, 12)       48        \n",
      " hNormalization)                                                 \n",
      "                                                                 \n",
      " activation_45 (Activation)  (None, 132300, 12)        0         \n",
      "                                                                 \n",
      " conv1d_53 (Conv1D)          (None, 132300, 12)        588       \n",
      "                                                                 \n",
      " dropout_4 (Dropout)         (None, 132300, 12)        0         \n",
      "                                                                 \n",
      " batch_normalization_3 (Batc  (None, 132300, 12)       48        \n",
      " hNormalization)                                                 \n",
      "                                                                 \n",
      " activation_46 (Activation)  (None, 132300, 12)        0         \n",
      "                                                                 \n",
      " conv1d_54 (Conv1D)          (None, 132300, 12)        588       \n",
      "                                                                 \n",
      " dropout_5 (Dropout)         (None, 132300, 12)        0         \n",
      "                                                                 \n",
      " batch_normalization_4 (Batc  (None, 132300, 12)       48        \n",
      " hNormalization)                                                 \n",
      "                                                                 \n",
      " activation_47 (Activation)  (None, 132300, 12)        0         \n",
      "                                                                 \n",
      " conv1d_55 (Conv1D)          (None, 132300, 12)        588       \n",
      "                                                                 \n",
      " dropout_6 (Dropout)         (None, 132300, 12)        0         \n",
      "                                                                 \n",
      " batch_normalization_5 (Batc  (None, 132300, 12)       48        \n",
      " hNormalization)                                                 \n",
      "                                                                 \n",
      " activation_48 (Activation)  (None, 132300, 12)        0         \n",
      "                                                                 \n",
      " conv1d_56 (Conv1D)          (None, 132300, 1)         13        \n",
      "                                                                 \n",
      " dropout_7 (Dropout)         (None, 132300, 1)         0         \n",
      "                                                                 \n",
      " batch_normalization_6 (Batc  (None, 132300, 1)        4         \n",
      " hNormalization)                                                 \n",
      "                                                                 \n",
      "=================================================================\n",
      "Total params: 3,305\n",
      "Trainable params: 3,159\n",
      "Non-trainable params: 146\n",
      "_________________________________________________________________\n"
     ]
    }
   ],
   "source": [
    "#--------------------------------------------\n",
    "# define callbacks\n",
    "log_dir = \"./logs/\" + datetime.datetime.now().strftime(\"%Y%m%d-%H%M%S\")\n",
    "\n",
    "# make directory if not exist\n",
    "if not os.path.exists(log_dir):\n",
    "    os.makedirs(log_dir)\n",
    "\n",
    "\n",
    "save_callback = keras.callbacks.ModelCheckpoint(\n",
    "    filepath='./model_checkpoint',\n",
    "    save_best_only=False,\n",
    "    monitor='val_loss',\n",
    "    verbose=0)\n",
    "\n",
    "tensorboard_callback = keras.callbacks.TensorBoard(\n",
    "    log_dir= log_dir,\n",
    "    histogram_freq=1,\n",
    "    write_graph=True,\n",
    "    write_images=True,\n",
    "    write_steps_per_second=True,\n",
    "    update_freq='epoch',\n",
    "    profile_batch=2,\n",
    "    embeddings_freq=1)\n",
    "\n",
    "# early_stopping_callback = keras.callbacks.EarlyStopping(\n",
    "#     monitor='val_loss',\n",
    "#     patience=5,\n",
    "#     verbose=1)\n",
    "\n",
    "\n",
    "#--------------------------------------------\n",
    "# helper func\n",
    "def float2pcm(sig, dtype='int16'):\n",
    "    \"\"\"Convert floating point signal with a range from -1 to 1 to PCM.\n",
    "    Any signal values outside the interval [-1.0, 1.0) are clipped.\n",
    "    No dithering is used.\n",
    "    Note that there are different possibilities for scaling floating\n",
    "    point numbers to PCM numbers, this function implements just one of\n",
    "    them.  For an overview of alternatives see\n",
    "    http://blog.bjornroche.com/2009/12/int-float-int-its-jungle-out-there.html\n",
    "    Parameters\n",
    "    ----------\n",
    "    sig : array_like\n",
    "        Input array, must have floating point type.\n",
    "    dtype : data type, optional\n",
    "        Desired (integer) data type.\n",
    "    Returns\n",
    "    -------\n",
    "    numpy.ndarray\n",
    "        Integer data, scaled and clipped to the range of the given\n",
    "        *dtype*.\n",
    "    See Also\n",
    "    --------\n",
    "    pcm2float, dtype\n",
    "    \"\"\"\n",
    "    sig = np.asarray(sig)\n",
    "    if sig.dtype.kind != 'f':\n",
    "        raise TypeError(\"'sig' must be a float array\")\n",
    "    dtype = np.dtype(dtype)\n",
    "    if dtype.kind not in 'iu':\n",
    "        raise TypeError(\"'dtype' must be an integer type\")\n",
    "\n",
    "    i = np.iinfo(dtype)\n",
    "    abs_max = 2 ** (i.bits - 1)\n",
    "    offset = i.min + abs_max\n",
    "    return (sig * abs_max + offset).clip(i.min, i.max).astype(dtype)\n",
    "\n",
    "\n",
    "#--------------------------------------------\n",
    "# set speechfile for prediction\n",
    "dataset = test_dataset.unbatch().as_numpy_iterator()\n",
    "speech_for_predicition = []\n",
    "for i, sample in enumerate(dataset):\n",
    "    speech_for_predicition.append(sample[0])\n",
    "    break\n",
    "# # normalize speechfile\n",
    "speech_for_predicition = speech_for_predicition[0]\n",
    "speech_for_predicition = librosa.util.normalize(speech_for_predicition)\n",
    "\n",
    "# save speech file used for prediction\n",
    "# save plot to disk\n",
    "plt.figure(figsize=(8, 4))\n",
    "x = np.arange(0, len(speech_for_predicition)/44100, 1/44100)\n",
    "plt.plot(x, speech_for_predicition)\n",
    "plt.title('Audiofile')\n",
    "plt.xlabel('Time in s')\n",
    "plt.ylabel('Amplitude')\n",
    "plt.savefig(log_dir + '/_audiofile_for_prediction.png')\n",
    "plt.close()\n",
    "\n",
    "# save audiofile to disk\n",
    "write(log_dir + '/_audiofile_for_prediction' + '.wav', int(44100), float2pcm(speech_for_predicition))\n",
    "\n",
    "\n",
    "#--------------------------------------------\n",
    "# define custom callback\n",
    "class CustomCallback(keras.callbacks.Callback):\n",
    "    \n",
    "    # define functions to happen during training after each epoch\n",
    "    def on_epoch_end(self, epoch, logs=None):\n",
    "        \n",
    "        # # print(logs) to check metrics\n",
    "        # print('---------------------')\n",
    "        # print(f'Epoch {epoch+1} Metrics:')\n",
    "        # print(logs)\n",
    "        # print('---------------------')\n",
    "        # print('')\n",
    "        \n",
    "\n",
    "        # save predicted audio file after each epoch to disk\n",
    "        # get audio file from model prediciton\n",
    "        audio = self.model.predict(speech_for_predicition)\n",
    "\n",
    "        # change shape to (len(audio), 1)\n",
    "        audio = tf.squeeze(audio, axis=-1)\n",
    "        audio = tf.squeeze(audio, axis=-1).numpy()\n",
    "        #print(audio.shape)\n",
    "\n",
    "        # normalize audio with numpy\n",
    "        audio = librosa.util.normalize(audio).astype(np.float32)\n",
    "\n",
    "        # save plot to disk\n",
    "        plt.figure(figsize=(8, 4))\n",
    "        x = np.arange(0, len(audio)/44100, 1/44100)\n",
    "        plt.plot(x, audio)\n",
    "        plt.title('Audiofile')\n",
    "        plt.xlabel('Time in s')\n",
    "        plt.ylabel('Amplitude')\n",
    "        plt.savefig(log_dir + '/_audiofile_epoch' + str(epoch+1) + '.png')\n",
    "        plt.close()\n",
    "\n",
    "        # write audio file to disk (16-bit PCM WAV)\n",
    "        write(log_dir + '/_audiofile_epoch' + str(epoch+1) + '.wav', 44100, float2pcm(audio))\n",
    "\n",
    "\n",
    "#--------------------------------------------\n",
    "# save audio files from logs to tf.summary.audio and event files for tensorboard\n",
    "def save_audio_to_summaries():\n",
    "    \n",
    "        # get audio files from logs\n",
    "        fps = glob.glob(log_dir + '/*.wav')\n",
    "        path_audiosummary = log_dir + '/audiosummary/'\n",
    "\n",
    "        # for each audio file\n",
    "        for idx, fp in enumerate(fps):\n",
    "            \n",
    "            # write audiosummary of one audio file to disk\n",
    "             writer = tf.summary.create_file_writer(path_audiosummary)\n",
    "             with writer.as_default():\n",
    "                \n",
    "                # load audio file as tensor\n",
    "                file = tf.io.read_file(fp)\n",
    "                audio = tf.audio.decode_wav(file, desired_channels=1)\n",
    "\n",
    "                # write audio file to tf.summary.audio\n",
    "                name = fp.split('/')[-1]\n",
    "                tf.summary.audio(name , tf.expand_dims(audio[0], 0), int(44100), step=idx)\n",
    "                writer.flush()\n",
    "\n",
    "\n",
    "\n",
    "#--------------------------------------------\n",
    "# get model\n",
    "model = build_model(input_shape = input_shape)\n",
    "\n",
    "# compile model\n",
    "model.compile(optimizer = keras.optimizers.Adam(learning_rate=0.06),\n",
    "              loss = tf.keras.losses.MeanSquaredError(),\n",
    "              metrics = tf.keras.losses.MeanSquaredError())\n",
    "\n",
    "model.summary()\n"
   ]
  },
  {
   "cell_type": "code",
   "execution_count": 60,
   "metadata": {},
   "outputs": [],
   "source": [
    "# Clear any logs from previous runs\n",
    "!rm -rf ./logs/"
   ]
  },
  {
   "cell_type": "code",
   "execution_count": 46,
   "metadata": {},
   "outputs": [
    {
     "name": "stdout",
     "output_type": "stream",
     "text": [
      "Epoch 1/2\n"
     ]
    },
    {
     "name": "stdout",
     "output_type": "stream",
     "text": [
      "      1/Unknown - 4s 4s/step - loss: 1.0193 - mean_squared_error: 1.0193"
     ]
    },
    {
     "name": "stderr",
     "output_type": "stream",
     "text": [
      "2023-07-05 18:03:51.196397: I tensorflow/core/profiler/lib/profiler_session.cc:99] Profiler session initializing.\n",
      "2023-07-05 18:03:51.196421: I tensorflow/core/profiler/lib/profiler_session.cc:114] Profiler session started.\n"
     ]
    },
    {
     "name": "stdout",
     "output_type": "stream",
     "text": [
      "      2/Unknown - 7s 2s/step - loss: 0.9627 - mean_squared_error: 0.9627"
     ]
    },
    {
     "name": "stderr",
     "output_type": "stream",
     "text": [
      "2023-07-05 18:03:53.663224: I tensorflow/core/profiler/lib/profiler_session.cc:66] Profiler session collecting data.\n",
      "2023-07-05 18:03:53.668016: I tensorflow/core/profiler/lib/profiler_session.cc:126] Profiler session tear down.\n",
      "2023-07-05 18:03:53.672782: I tensorflow/core/profiler/rpc/client/save_profile.cc:136] Creating directory: ./logs/20230705-180338/plugins/profile/2023_07_05_18_03_53\n",
      "\n",
      "2023-07-05 18:03:53.675320: I tensorflow/core/profiler/rpc/client/save_profile.cc:142] Dumped gzipped tool data for trace.json.gz to ./logs/20230705-180338/plugins/profile/2023_07_05_18_03_53/Mariuss-MacBook-Pro.local.trace.json.gz\n",
      "2023-07-05 18:03:53.684918: I tensorflow/core/profiler/rpc/client/save_profile.cc:136] Creating directory: ./logs/20230705-180338/plugins/profile/2023_07_05_18_03_53\n",
      "\n",
      "2023-07-05 18:03:53.685112: I tensorflow/core/profiler/rpc/client/save_profile.cc:142] Dumped gzipped tool data for memory_profile.json.gz to ./logs/20230705-180338/plugins/profile/2023_07_05_18_03_53/Mariuss-MacBook-Pro.local.memory_profile.json.gz\n",
      "2023-07-05 18:03:53.686098: I tensorflow/core/profiler/rpc/client/capture_profile.cc:251] Creating directory: ./logs/20230705-180338/plugins/profile/2023_07_05_18_03_53\n",
      "Dumped tool data for xplane.pb to ./logs/20230705-180338/plugins/profile/2023_07_05_18_03_53/Mariuss-MacBook-Pro.local.xplane.pb\n",
      "Dumped tool data for overview_page.pb to ./logs/20230705-180338/plugins/profile/2023_07_05_18_03_53/Mariuss-MacBook-Pro.local.overview_page.pb\n",
      "Dumped tool data for input_pipeline.pb to ./logs/20230705-180338/plugins/profile/2023_07_05_18_03_53/Mariuss-MacBook-Pro.local.input_pipeline.pb\n",
      "Dumped tool data for tensorflow_stats.pb to ./logs/20230705-180338/plugins/profile/2023_07_05_18_03_53/Mariuss-MacBook-Pro.local.tensorflow_stats.pb\n",
      "Dumped tool data for kernel_stats.pb to ./logs/20230705-180338/plugins/profile/2023_07_05_18_03_53/Mariuss-MacBook-Pro.local.kernel_stats.pb\n",
      "\n"
     ]
    },
    {
     "name": "stdout",
     "output_type": "stream",
     "text": [
      "     30/Unknown - 62s 2s/step - loss: 0.2308 - mean_squared_error: 0.2308"
     ]
    },
    {
     "name": "stderr",
     "output_type": "stream",
     "text": [
      "WARNING:absl:Found untraced functions such as _jit_compiled_convolution_op, _jit_compiled_convolution_op, _jit_compiled_convolution_op, _jit_compiled_convolution_op, _jit_compiled_convolution_op while saving (showing 5 of 7). These functions will not be directly callable after loading.\n"
     ]
    },
    {
     "name": "stdout",
     "output_type": "stream",
     "text": [
      "INFO:tensorflow:Assets written to: ./model_checkpoint/assets\n"
     ]
    },
    {
     "name": "stderr",
     "output_type": "stream",
     "text": [
      "INFO:tensorflow:Assets written to: ./model_checkpoint/assets\n"
     ]
    },
    {
     "name": "stdout",
     "output_type": "stream",
     "text": [
      "WARNING:tensorflow:Model was constructed with shape (None, 132300, 1) for input KerasTensor(type_spec=TensorSpec(shape=(None, 132300, 1), dtype=tf.float32, name='input_8'), name='input_8', description=\"created by layer 'input_8'\"), but it was called on an input with incompatible shape (None, 1, 1).\n"
     ]
    },
    {
     "name": "stderr",
     "output_type": "stream",
     "text": [
      "WARNING:tensorflow:Model was constructed with shape (None, 132300, 1) for input KerasTensor(type_spec=TensorSpec(shape=(None, 132300, 1), dtype=tf.float32, name='input_8'), name='input_8', description=\"created by layer 'input_8'\"), but it was called on an input with incompatible shape (None, 1, 1).\n"
     ]
    },
    {
     "name": "stdout",
     "output_type": "stream",
     "text": [
      "4135/4135 [==============================] - 2s 562us/step\n",
      "30/30 [==============================] - 69s 2s/step - loss: 0.2308 - mean_squared_error: 0.2308 - val_loss: 0.0156 - val_mean_squared_error: 0.0156\n",
      "Epoch 2/2\n",
      "30/30 [==============================] - ETA: 0s - loss: 0.0283 - mean_squared_error: 0.0283"
     ]
    },
    {
     "name": "stderr",
     "output_type": "stream",
     "text": [
      "WARNING:absl:Found untraced functions such as _jit_compiled_convolution_op, _jit_compiled_convolution_op, _jit_compiled_convolution_op, _jit_compiled_convolution_op, _jit_compiled_convolution_op while saving (showing 5 of 7). These functions will not be directly callable after loading.\n"
     ]
    },
    {
     "name": "stdout",
     "output_type": "stream",
     "text": [
      "INFO:tensorflow:Assets written to: ./model_checkpoint/assets\n"
     ]
    },
    {
     "name": "stderr",
     "output_type": "stream",
     "text": [
      "INFO:tensorflow:Assets written to: ./model_checkpoint/assets\n"
     ]
    },
    {
     "name": "stdout",
     "output_type": "stream",
     "text": [
      "4135/4135 [==============================] - 3s 646us/step\n",
      "30/30 [==============================] - 64s 2s/step - loss: 0.0283 - mean_squared_error: 0.0283 - val_loss: 0.0147 - val_mean_squared_error: 0.0147\n"
     ]
    }
   ],
   "source": [
    "# fit model\n",
    "history = model.fit(train_dataset,\n",
    "                    epochs=config['n_epochs'],\n",
    "                    validation_data=test_dataset,\n",
    "                    callbacks=[save_callback, tensorboard_callback, CustomCallback()])\n",
    "\n",
    "# save model\n",
    "model.save('./model.h5')\n",
    "\n",
    "# save history\n",
    "with open('./history.json', 'w+') as fp:\n",
    "    json.dump(history.history, fp, sort_keys=True, indent=4)\n",
    "\n",
    "\n",
    "# call def to save audio to summaries\n",
    "save_audio_to_summaries()\n"
   ]
  },
  {
   "cell_type": "code",
   "execution_count": null,
   "metadata": {},
   "outputs": [],
   "source": [
    "%tensorboard --logdir logs"
   ]
  },
  {
   "cell_type": "code",
   "execution_count": 38,
   "metadata": {},
   "outputs": [
    {
     "data": {
      "image/png": "[encoded data removed]",
      "text/plain": [
       "<Figure size 640x480 with 1 Axes>"
      ]
     },
     "metadata": {},
     "output_type": "display_data"
    }
   ],
   "source": [
    "# plot mse\n",
    "train_mse = history.history['mean_squared_error']\n",
    "eval_mse = history.history['val_mean_squared_error']\n",
    "\n",
    "fig2 = plt.figure()\n",
    "plt.plot(range(config['n_epochs']), train_mse, label='train')\n",
    "plt.plot(range(config['n_epochs']), eval_mse, label='eval')\n",
    "plt.legend()\n",
    "plt.grid(True)\n",
    "plt.xlabel('Epochs')\n",
    "plt.ylabel('mse')\n",
    "plt.title('Training with ' \n",
    "                           + str(config['n_epochs'])\n",
    "                           + ' epochs \\n batch-size: '\n",
    "                           + str(config['batch_size']))\n",
    "                     \n",
    "plt.show()  "
   ]
  },
  {
   "cell_type": "code",
   "execution_count": null,
   "metadata": {},
   "outputs": [],
   "source": [
    "# reconstructed_model = keras.models.load_model('./model.h5')\n"
   ]
  }
 ],
 "metadata": {
  "kernelspec": {
   "display_name": "Masterarbeit",
   "language": "python",
   "name": "python3"
  },
  "language_info": {
   "codemirror_mode": {
    "name": "ipython",
    "version": 3
   },
   "file_extension": ".py",
   "mimetype": "text/x-python",
   "name": "python",
   "nbconvert_exporter": "python",
   "pygments_lexer": "ipython3",
   "version": "3.9.16"
  },
  "orig_nbformat": 4
 },
 "nbformat": 4,
 "nbformat_minor": 2
}
