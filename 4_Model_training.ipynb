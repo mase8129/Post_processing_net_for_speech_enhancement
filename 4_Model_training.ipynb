{
 "cells": [
  {
   "attachments": {},
   "cell_type": "markdown",
   "metadata": {},
   "source": [
    "# Load tfrecords, define model and train"
   ]
  },
  {
   "cell_type": "code",
   "execution_count": 24,
   "metadata": {},
   "outputs": [
    {
     "name": "stdout",
     "output_type": "stream",
     "text": [
      "Tensorflow Version: 2.9.1\n",
      "GPU not available :(\n"
     ]
    }
   ],
   "source": [
    "# Dependencies\n",
    "\n",
    " # TensorFlow and tf.keras\n",
    "import tensorflow as tf\n",
    "print('Tensorflow Version:', tf.__version__)\n",
    "from tensorflow import keras\n",
    "from keras import layers\n",
    "from keras import models\n",
    "\n",
    "# Helper libraries\n",
    "import os\n",
    "import os.path\n",
    "import glob\n",
    "import librosa\n",
    "import librosa.display\n",
    "import json\n",
    "from pathlib import Path\n",
    "import matplotlib.pyplot as plt\n",
    "import numpy as np\n",
    "import IPython.display as pd\n",
    "import pprint\n",
    "\n",
    "# Check if the GPU is available (otherwise computing will take a looooonnnnggggg time)\n",
    "print(\"GPU\", \"available (YESS!!!!)\" if tf.config.list_physical_devices(\"GPU\") else \"not available :(\")\n",
    "\n"
   ]
  },
  {
   "cell_type": "code",
   "execution_count": 33,
   "metadata": {},
   "outputs": [
    {
     "name": "stdout",
     "output_type": "stream",
     "text": [
      "{\n",
      "    \"batch_size\": 16,\n",
      "    \"fps_noisy\": \"/Users/marius/Documents/Uni/TU_Berlin_Master/Masterarbeit/Data/allFiles/noisySpeech\",\n",
      "    \"fps_produced\": \"/Users/marius/Documents/Uni/TU_Berlin_Master/Masterarbeit/Data/allFiles/producedSpeech\",\n",
      "    \"fps_voicefixer\": \"/Users/marius/Documents/Uni/TU_Berlin_Master/Masterarbeit/Data/allFiles/voicefixerOutput\",\n",
      "    \"hop_length\": 64,\n",
      "    \"input_shape\": [\n",
      "        441000,\n",
      "        1\n",
      "    ],\n",
      "    \"n_epochs\": 10,\n",
      "    \"n_fft\": 512,\n",
      "    \"n_mels\": 16,\n",
      "    \"offset\": 6,\n",
      "    \"sample_length\": 20,\n",
      "    \"shuffle_buffer_size\": 300,\n",
      "    \"sr\": 44100,\n",
      "    \"test_dataset_path\": \"../Dataset/test.tfrecord\",\n",
      "    \"train_dataset_path\": \"../Dataset/train.tfrecord\",\n",
      "    \"win_length\": 512\n",
      "}\n"
     ]
    }
   ],
   "source": [
    "# load global settings in config-dictionary\n",
    "with open('./MA_CONFIG.json', 'r') as fp:\n",
    "  config = json.load(fp)\n",
    "\n",
    "# define some extra values\n",
    "config['batch_size'] = 16\n",
    "config['shuffle_buffer_size'] = 300\n",
    "config['n_epochs'] = 10\n",
    "config['train_dataset_path'] = '../Dataset/train.tfrecord'\n",
    "config['test_dataset_path'] = '../Dataset/test.tfrecord'\n",
    "\n",
    "\n",
    "# print config\n",
    "print(json.dumps(config, indent=4))\n",
    "\n",
    "# save config to disk\n",
    "with open('./MA_CONFIG.json', 'w+') as fp:\n",
    "    json.dump(config, fp, sort_keys=True, indent=4)\n"
   ]
  },
  {
   "attachments": {},
   "cell_type": "markdown",
   "metadata": {},
   "source": [
    "# load datasets"
   ]
  },
  {
   "cell_type": "code",
   "execution_count": 26,
   "metadata": {},
   "outputs": [
    {
     "name": "stdout",
     "output_type": "stream",
     "text": [
      "Number of elements in train-dataset: 65\n",
      "Number of elements in test-dataset: 53\n"
     ]
    }
   ],
   "source": [
    "# load datasets from disk\n",
    "train_dataset = tf.data.experimental.load(config['train_dataset_path'],\n",
    "                                   (tf.TensorSpec(shape=(441000, 1),\n",
    "                                                   dtype=tf.float32, name=None),\n",
    "                                     tf.TensorSpec(shape=(441000, 1),\n",
    "                                                  dtype=tf.float32, name=None)),\n",
    "                                                   compression='GZIP')\n",
    "\n",
    "test_dataset = tf.data.experimental.load(config['test_dataset_path'],\n",
    "                                      (tf.TensorSpec(shape=(441000, 1),\n",
    "                                                        dtype=tf.float32, name=None),\n",
    "                                        tf.TensorSpec(shape=(441000, 1),\n",
    "                                                        dtype=tf.float32, name=None)),\n",
    "                                                        compression='GZIP')\n",
    "\n",
    "\n",
    "\n",
    "\n",
    "# count elements in train-dataset and save to config\n",
    "i = 0\n",
    "for d in train_dataset:\n",
    "    i = i + 1\n",
    "print(f'Number of elements in train-dataset: {i}')\n",
    "\n",
    "# count elements in test-dataset and save to config\n",
    "i = 0\n",
    "for d in test_dataset:\n",
    "    i = i + 1\n",
    "print(f'Number of elements in test-dataset: {i}')\n",
    "\n",
    "\n",
    "# batching and shuffling\n",
    "train_dataset = train_dataset.shuffle(config['shuffle_buffer_size']).batch(config['batch_size'])\n",
    "test_dataset = test_dataset.shuffle(config['shuffle_buffer_size']).batch(config['batch_size'])\n",
    "\n",
    "\n"
   ]
  },
  {
   "cell_type": "code",
   "execution_count": 27,
   "metadata": {},
   "outputs": [
    {
     "name": "stdout",
     "output_type": "stream",
     "text": [
      "(16, 441000, 1)\n",
      "(16, 441000, 1)\n",
      "(16, 441000, 1)\n",
      "(16, 441000, 1)\n"
     ]
    }
   ],
   "source": [
    "# check if datasets are loaded correctly\n",
    "for d in train_dataset:\n",
    "    print(d[0].shape)\n",
    "    print(d[1].shape)\n",
    "    break   \n",
    "\n",
    "for d in test_dataset:\n",
    "    print(d[0].shape)\n",
    "    print(d[1].shape)\n",
    "    break\n",
    "\n"
   ]
  },
  {
   "attachments": {},
   "cell_type": "markdown",
   "metadata": {},
   "source": [
    "# look at data"
   ]
  },
  {
   "cell_type": "code",
   "execution_count": null,
   "metadata": {},
   "outputs": [],
   "source": [
    "# look at some example data from train dataset\n",
    "wavs = train_dataset.unbatch().as_numpy_iterator()\n",
    "noisy = []\n",
    "gt = []\n",
    "\n",
    "# Setup Subplot\n",
    "nrows, ncols = 2, 2\n",
    "fig, ax = plt.subplots(nrows=nrows, ncols=ncols, sharex=True, figsize=(16, 9))\n",
    "\n",
    "\n",
    "# iterate over dataset\n",
    "for i, sample in enumerate(wavs):\n",
    "    \n",
    "    # get the column and row by modulo and remainder\n",
    "    j = i % ncols\n",
    "    k = int(i / ncols)\n",
    "    \n",
    "    # extract noisy and produced speech file from tensors\n",
    "    wave = sample[0]\n",
    "    ground_truth = sample[1]\n",
    "        \n",
    "    # plot files\n",
    "    librosa.display.waveshow(np.squeeze(wave), x_axis='time', sr=config['sr'], ax=ax[k][j], label='test_file')\n",
    "    librosa.display.waveshow(np.squeeze(ground_truth), alpha=0.3, x_axis='time', sr=config['sr'], ax=ax[k][j], label='ground_truth')\n",
    "    ax[k][j].legend()\n",
    "    ax[k][j].axis('on')\n",
    "    ax[k][j].set_title('10s speech')  \n",
    "\n",
    "    # save speech to arrays\n",
    "    noisy.append(np.squeeze(wave))\n",
    "    gt.append(np.squeeze(ground_truth))\n",
    "    \n",
    "    if i+1 == ncols*nrows:\n",
    "        break\n",
    "    \n",
    "# adjust whitespace in between subplots        \n",
    "plt.subplots_adjust(hspace=0.25, wspace=0.15)\n",
    "plt.show()\n",
    "\n",
    "\n",
    "# listen to the audio samples\n",
    "for i in range(len(gt)):\n",
    "    print(f'----------- {i+1}. speechsnippet ---------------')\n",
    "    print('')\n",
    "    print(f'Voicefixer file')\n",
    "    pd.display(pd.Audio(noisy[i].T, rate=config['sr']))\n",
    "    print(f'corresponding produced file')\n",
    "    pd.display(pd.Audio(gt[i].T, rate=config['sr']))\n",
    "    print('')"
   ]
  },
  {
   "attachments": {},
   "cell_type": "markdown",
   "metadata": {},
   "source": [
    "## Model architecture"
   ]
  },
  {
   "cell_type": "code",
   "execution_count": 29,
   "metadata": {},
   "outputs": [],
   "source": [
    "input_shape = (441000, 1)\n",
    "output_channels = 1\n",
    "\n",
    "filter_size = 8\n",
    "kernel_size = 2\n",
    "\n",
    "# build model with 12 layers\n",
    "def build_model(input_shape):\n",
    "\n",
    "    # define model\n",
    "    model = keras.Sequential(name='PostNet_Conv1D')\n",
    "    model.add(keras.Input(shape=input_shape))\n",
    "\n",
    "    # add layer \n",
    "    model.add(keras.layers.Conv1D(filters=filter_size, kernel_size=kernel_size, padding='same'))\n",
    "    model.add(keras.layers.Activation('tanh'))\n",
    "\n",
    "    # Add the remaining Conv1D layers\n",
    "    for _ in range(11):\n",
    "        model.add(keras.layers.Conv1D(filters=filter_size, kernel_size=kernel_size, padding='same'))\n",
    "        model.add(keras.layers.Activation('tanh'))\n",
    "\n",
    "    # Add the final Conv1D layer\n",
    "    model.add(keras.layers.Conv1D(filters=output_channels, kernel_size=1, padding='same'))\n",
    "    model.add(keras.layers.Activation('tanh'))\n",
    "\n",
    "    return model"
   ]
  },
  {
   "cell_type": "code",
   "execution_count": 1,
   "metadata": {},
   "outputs": [
    {
     "ename": "NameError",
     "evalue": "name 'build_model' is not defined",
     "output_type": "error",
     "traceback": [
      "\u001b[0;31m---------------------------------------------------------------------------\u001b[0m",
      "\u001b[0;31mNameError\u001b[0m                                 Traceback (most recent call last)",
      "\u001b[1;32m/Users/marius/Documents/Uni/TU_Berlin_Master/Masterarbeit/Post_processing_net_for_speech_enhancement/4_Model_training.ipynb Cell 11\u001b[0m in \u001b[0;36m<cell line: 2>\u001b[0;34m()\u001b[0m\n\u001b[1;32m      <a href='vscode-notebook-cell:/Users/marius/Documents/Uni/TU_Berlin_Master/Masterarbeit/Post_processing_net_for_speech_enhancement/4_Model_training.ipynb#X13sZmlsZQ%3D%3D?line=0'>1</a>\u001b[0m \u001b[39m# get model\u001b[39;00m\n\u001b[0;32m----> <a href='vscode-notebook-cell:/Users/marius/Documents/Uni/TU_Berlin_Master/Masterarbeit/Post_processing_net_for_speech_enhancement/4_Model_training.ipynb#X13sZmlsZQ%3D%3D?line=1'>2</a>\u001b[0m model \u001b[39m=\u001b[39m build_model(input_shape \u001b[39m=\u001b[39m input_shape)\n\u001b[1;32m      <a href='vscode-notebook-cell:/Users/marius/Documents/Uni/TU_Berlin_Master/Masterarbeit/Post_processing_net_for_speech_enhancement/4_Model_training.ipynb#X13sZmlsZQ%3D%3D?line=6'>7</a>\u001b[0m \u001b[39m# define metrics to monitor mse\u001b[39;00m\n\u001b[1;32m      <a href='vscode-notebook-cell:/Users/marius/Documents/Uni/TU_Berlin_Master/Masterarbeit/Post_processing_net_for_speech_enhancement/4_Model_training.ipynb#X13sZmlsZQ%3D%3D?line=7'>8</a>\u001b[0m metrics \u001b[39m=\u001b[39m [tf\u001b[39m.\u001b[39mkeras\u001b[39m.\u001b[39mlosses\u001b[39m.\u001b[39mMeanSquaredError()]\n",
      "\u001b[0;31mNameError\u001b[0m: name 'build_model' is not defined"
     ]
    }
   ],
   "source": [
    "# get model\n",
    "model = build_model(input_shape = input_shape)\n",
    "\n",
    "\n",
    "\n",
    "\n",
    "# define metrics to monitor mse\n",
    "metrics = [tf.keras.losses.MeanSquaredError()]\n",
    "\n",
    "# Set up optimizer with high initial learning rate\n",
    "opt = keras.optimizers.Adam(learning_rate=0.06)\n",
    "\n",
    "# define callbacks\n",
    "callbacks = [\n",
    "    keras.callbacks.ModelCheckpoint(\n",
    "        filepath='./model_checkpoint',\n",
    "        save_best_only=True,\n",
    "        monitor='val_loss',\n",
    "        verbose=1),\n",
    "    keras.callbacks.EarlyStopping(\n",
    "        monitor='val_loss',\n",
    "        patience=5,\n",
    "        verbose=1),\n",
    "]   \n",
    "\n",
    "# compile model\n",
    "model.compile(optimizer=opt,\n",
    "              loss=tf.keras.losses.MeanAbsolutePercentageError(),\n",
    "              metrics=metrics)\n",
    "\n",
    "model.summary()"
   ]
  },
  {
   "cell_type": "code",
   "execution_count": 34,
   "metadata": {},
   "outputs": [
    {
     "name": "stdout",
     "output_type": "stream",
     "text": [
      "Epoch 1/10\n",
      "5/5 [==============================] - ETA: 0s - loss: 2075769.3750 - mean_squared_error: 0.0695\n",
      "Epoch 1: val_loss did not improve from 3845867.50000\n",
      "5/5 [==============================] - 20s 4s/step - loss: 2075769.3750 - mean_squared_error: 0.0695 - val_loss: 4667504.5000 - val_mean_squared_error: 0.1475\n",
      "Epoch 2/10\n",
      "5/5 [==============================] - ETA: 0s - loss: 1479772.1250 - mean_squared_error: 0.0513\n",
      "Epoch 2: val_loss improved from 3845867.50000 to 193874.28125, saving model to ./model_checkpoint\n"
     ]
    },
    {
     "name": "stderr",
     "output_type": "stream",
     "text": [
      "WARNING:absl:Found untraced functions such as _jit_compiled_convolution_op, _jit_compiled_convolution_op, _jit_compiled_convolution_op, _jit_compiled_convolution_op, _jit_compiled_convolution_op while saving (showing 5 of 13). These functions will not be directly callable after loading.\n"
     ]
    },
    {
     "name": "stdout",
     "output_type": "stream",
     "text": [
      "INFO:tensorflow:Assets written to: ./model_checkpoint/assets\n"
     ]
    },
    {
     "name": "stderr",
     "output_type": "stream",
     "text": [
      "INFO:tensorflow:Assets written to: ./model_checkpoint/assets\n"
     ]
    },
    {
     "name": "stdout",
     "output_type": "stream",
     "text": [
      "5/5 [==============================] - 22s 4s/step - loss: 1479772.1250 - mean_squared_error: 0.0513 - val_loss: 193874.2812 - val_mean_squared_error: 0.0149\n",
      "Epoch 3/10\n",
      "5/5 [==============================] - ETA: 0s - loss: 586458.3125 - mean_squared_error: 0.0253\n",
      "Epoch 3: val_loss did not improve from 193874.28125\n",
      "5/5 [==============================] - 20s 4s/step - loss: 586458.3125 - mean_squared_error: 0.0253 - val_loss: 2080886.3750 - val_mean_squared_error: 0.0411\n",
      "Epoch 4/10\n",
      "5/5 [==============================] - ETA: 0s - loss: 1119860.6250 - mean_squared_error: 0.0339\n",
      "Epoch 4: val_loss did not improve from 193874.28125\n",
      "5/5 [==============================] - 20s 4s/step - loss: 1119860.6250 - mean_squared_error: 0.0339 - val_loss: 978116.0000 - val_mean_squared_error: 0.0214\n",
      "Epoch 5/10\n",
      "5/5 [==============================] - ETA: 0s - loss: 538236.1250 - mean_squared_error: 0.0320\n",
      "Epoch 5: val_loss did not improve from 193874.28125\n",
      "5/5 [==============================] - 20s 4s/step - loss: 538236.1250 - mean_squared_error: 0.0320 - val_loss: 2241807.0000 - val_mean_squared_error: 0.0451\n",
      "Epoch 6/10\n",
      "5/5 [==============================] - ETA: 0s - loss: 969581.8750 - mean_squared_error: 0.0332\n",
      "Epoch 6: val_loss improved from 193874.28125 to 162685.96875, saving model to ./model_checkpoint\n"
     ]
    },
    {
     "name": "stderr",
     "output_type": "stream",
     "text": [
      "WARNING:absl:Found untraced functions such as _jit_compiled_convolution_op, _jit_compiled_convolution_op, _jit_compiled_convolution_op, _jit_compiled_convolution_op, _jit_compiled_convolution_op while saving (showing 5 of 13). These functions will not be directly callable after loading.\n"
     ]
    },
    {
     "name": "stdout",
     "output_type": "stream",
     "text": [
      "INFO:tensorflow:Assets written to: ./model_checkpoint/assets\n"
     ]
    },
    {
     "name": "stderr",
     "output_type": "stream",
     "text": [
      "INFO:tensorflow:Assets written to: ./model_checkpoint/assets\n"
     ]
    },
    {
     "name": "stdout",
     "output_type": "stream",
     "text": [
      "5/5 [==============================] - 21s 4s/step - loss: 969581.8750 - mean_squared_error: 0.0332 - val_loss: 162685.9688 - val_mean_squared_error: 0.0149\n",
      "Epoch 7/10\n",
      "5/5 [==============================] - ETA: 0s - loss: 1068629.7500 - mean_squared_error: 0.0386\n",
      "Epoch 7: val_loss did not improve from 162685.96875\n",
      "5/5 [==============================] - 19s 4s/step - loss: 1068629.7500 - mean_squared_error: 0.0386 - val_loss: 1471148.3750 - val_mean_squared_error: 0.0292\n",
      "Epoch 8/10\n",
      "5/5 [==============================] - ETA: 0s - loss: 797225.5000 - mean_squared_error: 0.0323\n",
      "Epoch 8: val_loss did not improve from 162685.96875\n",
      "5/5 [==============================] - 20s 4s/step - loss: 797225.5000 - mean_squared_error: 0.0323 - val_loss: 1435257.2500 - val_mean_squared_error: 0.0282\n",
      "Epoch 9/10\n",
      "5/5 [==============================] - ETA: 0s - loss: 899382.2500 - mean_squared_error: 0.0564\n",
      "Epoch 9: val_loss did not improve from 162685.96875\n",
      "5/5 [==============================] - 19s 4s/step - loss: 899382.2500 - mean_squared_error: 0.0564 - val_loss: 4082173.0000 - val_mean_squared_error: 0.1167\n",
      "Epoch 10/10\n",
      "5/5 [==============================] - ETA: 0s - loss: 1790811.0000 - mean_squared_error: 0.0647\n",
      "Epoch 10: val_loss did not improve from 162685.96875\n",
      "5/5 [==============================] - 19s 4s/step - loss: 1790811.0000 - mean_squared_error: 0.0647 - val_loss: 2856631.5000 - val_mean_squared_error: 0.0645\n"
     ]
    },
    {
     "name": "stderr",
     "output_type": "stream",
     "text": [
      "WARNING:absl:Found untraced functions such as _jit_compiled_convolution_op, _jit_compiled_convolution_op, _jit_compiled_convolution_op, _jit_compiled_convolution_op, _jit_compiled_convolution_op while saving (showing 5 of 13). These functions will not be directly callable after loading.\n"
     ]
    },
    {
     "name": "stdout",
     "output_type": "stream",
     "text": [
      "INFO:tensorflow:Assets written to: ./model/assets\n"
     ]
    },
    {
     "name": "stderr",
     "output_type": "stream",
     "text": [
      "INFO:tensorflow:Assets written to: ./model/assets\n"
     ]
    },
    {
     "data": {
      "image/png": "[encoded data removed]",
      "text/plain": [
       "<Figure size 640x480 with 1 Axes>"
      ]
     },
     "metadata": {},
     "output_type": "display_data"
    }
   ],
   "source": [
    "# fit model\n",
    "history = model.fit(train_dataset,\n",
    "                    epochs=config['n_epochs'],\n",
    "                    validation_data=test_dataset,\n",
    "                    callbacks=callbacks)\n",
    "\n",
    "# save model\n",
    "model.save('./model')\n",
    "\n",
    "# save history\n",
    "with open('./history.json', 'w+') as fp:\n",
    "    json.dump(history.history, fp, sort_keys=True, indent=4)\n",
    "\n"
   ]
  },
  {
   "cell_type": "code",
   "execution_count": 41,
   "metadata": {},
   "outputs": [
    {
     "data": {
      "image/png": "[encoded data removed]",
      "text/plain": [
       "<Figure size 640x480 with 1 Axes>"
      ]
     },
     "metadata": {},
     "output_type": "display_data"
    }
   ],
   "source": [
    "# plot mse\n",
    "train_mse = history.history['mean_squared_error']\n",
    "eval_mse = history.history['val_mean_squared_error']\n",
    "\n",
    "fig2 = plt.figure()\n",
    "plt.plot(range(config['n_epochs']), train_mse, label='train')\n",
    "plt.plot(range(config['n_epochs']), eval_mse, label='test')\n",
    "plt.legend()\n",
    "plt.grid(True)\n",
    "plt.xlabel('Epochs')\n",
    "plt.ylabel('mse')\n",
    "plt.title('Training with ' \n",
    "                           + str(config['n_epochs'])\n",
    "                           + ' epochs \\n batch-size: '\n",
    "                           + str(config['batch_size']))\n",
    "                     \n",
    "plt.show()  "
   ]
  }
 ],
 "metadata": {
  "kernelspec": {
   "display_name": "Masterarbeit",
   "language": "python",
   "name": "python3"
  },
  "language_info": {
   "codemirror_mode": {
    "name": "ipython",
    "version": 3
   },
   "file_extension": ".py",
   "mimetype": "text/x-python",
   "name": "python",
   "nbconvert_exporter": "python",
   "pygments_lexer": "ipython3",
   "version": "3.9.16"
  },
  "orig_nbformat": 4
 },
 "nbformat": 4,
 "nbformat_minor": 2
}
