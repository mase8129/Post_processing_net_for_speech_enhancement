{
  "cells": [
    {
      "attachments": {},
      "cell_type": "markdown",
      "metadata": {
        "id": "F_YmM425-RpO"
      },
      "source": [
        "# Load tfrecords, define model and train"
      ]
    },
    {
      "cell_type": "code",
      "execution_count": 3,
      "metadata": {
        "colab": {
          "base_uri": "https://localhost:8080/"
        },
        "id": "D03pIWqi-Xwn",
        "outputId": "f959d917-d71f-42e6-dd01-9b7c5974c76d"
      },
      "outputs": [
        {
          "name": "stdout",
          "output_type": "stream",
          "text": [
            "Drive already mounted at /content/drive; to attempt to forcibly remount, call drive.mount(\"/content/drive\", force_remount=True).\n"
          ]
        }
      ],
      "source": [
        "from google.colab import drive\n",
        "drive.mount('/content/drive')"
      ]
    },
    {
      "cell_type": "code",
      "execution_count": 4,
      "metadata": {
        "colab": {
          "base_uri": "https://localhost:8080/"
        },
        "id": "m46WFVwk-RpQ",
        "outputId": "1b0217ef-527a-4135-9281-ddabfb47f48c"
      },
      "outputs": [
        {
          "name": "stdout",
          "output_type": "stream",
          "text": [
            "Tensorflow Version: 2.12.0\n",
            "GPU available (YESS!!!!)\n"
          ]
        }
      ],
      "source": [
        "# Dependencies\n",
        "\n",
        " # TensorFlow and tf.keras\n",
        "import tensorflow as tf\n",
        "print('Tensorflow Version:', tf.__version__)\n",
        "from tensorflow import keras\n",
        "from keras import layers\n",
        "from keras import models\n",
        "\n",
        "#Tensorboard\n",
        "%load_ext tensorboard\n",
        "\n",
        "# Helper libraries\n",
        "import os\n",
        "import os.path\n",
        "import glob\n",
        "import librosa\n",
        "import librosa.display\n",
        "import json\n",
        "from pathlib import Path\n",
        "import matplotlib.pyplot as plt\n",
        "import numpy as np\n",
        "import IPython.display as pd\n",
        "import pprint\n",
        "import datetime        \n",
        "from scipy.io.wavfile import write\n",
        "\n",
        "# Check if the GPU is available (otherwise computing will take a looooonnnnggggg time)\n",
        "print(\"GPU\", \"available (YESS!!!!)\" if tf.config.list_physical_devices(\"GPU\") else \"not available :(\")\n",
        "\n"
      ]
    },
    {
      "cell_type": "code",
      "execution_count": 5,
      "metadata": {
        "id": "J26DrmHd-RpS"
      },
      "outputs": [],
      "source": [
        "\n",
        "# define some values in config\n",
        "config = {\n",
        "          'batch_size': 16,\n",
        "          'shuffle_buffer_size': 300,\n",
        "          'n_epochs': 2,\n",
        "          'sr': 44100,\n",
        "          'filter_size': 2,\n",
        "          'kernel_size': 1\n",
        "          }\n",
        "\n"
      ]
    },
    {
      "attachments": {},
      "cell_type": "markdown",
      "metadata": {
        "id": "8ogR82-O-RpS"
      },
      "source": [
        "# load tfrecords"
      ]
    },
    {
      "attachments": {},
      "cell_type": "markdown",
      "metadata": {
        "id": "12uK-yP8-RpS"
      },
      "source": [
        "### func for decoding tfrecords"
      ]
    },
    {
      "cell_type": "code",
      "execution_count": 6,
      "metadata": {
        "id": "0_Zem2em-RpT"
      },
      "outputs": [],
      "source": [
        "# autotune for performance\n",
        "AUTOTUNE = tf.data.experimental.AUTOTUNE\n",
        "\n",
        "# decode tfrecords\n",
        "def decode_tf_records(seralized_example):\n",
        "    feature_description = {\n",
        "        \"voicefixer\": tf.io.FixedLenFeature([], tf.string),\n",
        "        \"produced\": tf.io.FixedLenFeature([], tf.string),\n",
        "    }\n",
        "    example = tf.io.parse_single_example(seralized_example, feature_description)\n",
        "\n",
        "    voicefixer, _ = tf.audio.decode_wav(example[\"voicefixer\"], desired_channels=-1)\n",
        "    produced, _ = tf.audio.decode_wav(example[\"produced\"], desired_channels=-1)\n",
        "\n",
        "    # voicefixer, produced = (\n",
        "    #     tf.squeeze(voicefixer, 1),\n",
        "    #     tf.squeeze(produced, 1),\n",
        "    # )\n",
        "    \n",
        "    return voicefixer, produced"
      ]
    },
    {
      "cell_type": "code",
      "execution_count": 10,
      "metadata": {
        "id": "DNallE1h-RpT"
      },
      "outputs": [],
      "source": [
        "# load train tfrecords\n",
        "\n",
        "tfrecords_paths = glob.glob('/content/drive/MyDrive/#Post_processing_net_for_speech_enhancement/Dataset/train_tfrecords/*.tfrecords')\n",
        "train_dataset = tf.data.TFRecordDataset(tfrecords_paths[:2])\n",
        "train_dataset = train_dataset.map(decode_tf_records, num_parallel_calls=AUTOTUNE)\n",
        "\n",
        "# # count elements in train_dataset\n",
        "#print(f'Number of elements in train_dataset: {len([d for d in train_dataset])}')\n",
        "\n",
        "# batching and shuffling\n",
        "train_dataset = train_dataset.shuffle(config['shuffle_buffer_size']).batch(config['batch_size'])\n"
      ]
    },
    {
      "cell_type": "code",
      "execution_count": 11,
      "metadata": {
        "id": "ePnCnqcK-RpT"
      },
      "outputs": [],
      "source": [
        "# load test tfrecords\n",
        "tfrecords_paths = glob.glob('/content/drive/MyDrive/#Post_processing_net_for_speech_enhancement/Dataset/test_tfrecords/*.tfrecords')\n",
        "test_dataset = tf.data.TFRecordDataset(tfrecords_paths[:1])\n",
        "test_dataset = test_dataset.map(decode_tf_records, num_parallel_calls=AUTOTUNE)\n",
        "\n",
        "# # count elements in test_dataset\n",
        "# print(f'Number of elements in test_dataset: {len([d for d in test_dataset])}')\n",
        "\n",
        "# batching and shuffling\n",
        "test_dataset = test_dataset.shuffle(config['shuffle_buffer_size']).batch(config['batch_size'])\n"
      ]
    },
    {
      "cell_type": "code",
      "execution_count": 12,
      "metadata": {
        "colab": {
          "base_uri": "https://localhost:8080/"
        },
        "id": "ktZon7HK-RpT",
        "outputId": "cb467b86-d9f5-4e80-e08a-fb4d94bd2143"
      },
      "outputs": [
        {
          "name": "stdout",
          "output_type": "stream",
          "text": [
            "(16, 441000, 1)\n",
            "(16, 441000, 1)\n",
            "(16, 441000, 1)\n",
            "(16, 441000, 1)\n"
          ]
        }
      ],
      "source": [
        "# check if datasets are loaded correctly\n",
        "for d in train_dataset:\n",
        "    print(d[0].shape)\n",
        "    print(d[1].shape)\n",
        "    break   \n",
        "\n",
        "for d in test_dataset:\n",
        "    print(d[0].shape)\n",
        "    print(d[1].shape)\n",
        "    break"
      ]
    },
    {
      "attachments": {},
      "cell_type": "markdown",
      "metadata": {
        "id": "dhxm8ksN-RpT"
      },
      "source": [
        "# look at data"
      ]
    },
    {
      "cell_type": "code",
      "execution_count": null,
      "metadata": {
        "id": "8DtGTCHJ-RpT"
      },
      "outputs": [],
      "source": [
        "# # look at some example data from train dataset\n",
        "# wavs = train_dataset.unbatch().as_numpy_iterator()\n",
        "# noisy = []\n",
        "# gt = []\n",
        "\n",
        "# # Setup Subplot\n",
        "# nrows, ncols = 2, 2\n",
        "# fig, ax = plt.subplots(nrows=nrows, ncols=ncols, sharex=True, figsize=(16, 9))\n",
        "\n",
        "\n",
        "# # iterate over dataset\n",
        "# for i, sample in enumerate(wavs):\n",
        "    \n",
        "#     # get the column and row by modulo and remainder\n",
        "#     j = i % ncols\n",
        "#     k = int(i / ncols)\n",
        "    \n",
        "#     # extract noisy and produced speech file from tensors\n",
        "#     wave = sample[0]\n",
        "#     ground_truth = sample[1]\n",
        "        \n",
        "#     # plot files\n",
        "#     librosa.display.waveshow(np.squeeze(wave), x_axis='time', sr=config['sr'], ax=ax[k][j], label='test_file')\n",
        "#     librosa.display.waveshow(np.squeeze(ground_truth), alpha=0.3, x_axis='time', sr=config['sr'], ax=ax[k][j], label='ground_truth')\n",
        "#     ax[k][j].legend()\n",
        "#     ax[k][j].axis('on')\n",
        "#     ax[k][j].set_title('10s speech')  \n",
        "\n",
        "#     # save speech to arrays\n",
        "#     noisy.append(np.squeeze(wave))\n",
        "#     gt.append(np.squeeze(ground_truth))\n",
        "    \n",
        "#     if i+1 == ncols*nrows:\n",
        "#         break\n",
        "    \n",
        "# # adjust whitespace in between subplots        \n",
        "# plt.subplots_adjust(hspace=0.25, wspace=0.15)\n",
        "# plt.show()\n",
        "\n",
        "\n",
        "# # listen to the audio samples\n",
        "# for i in range(len(gt)):\n",
        "#     print(f'----------- {i+1}. speechsnippet ---------------')\n",
        "#     print('')\n",
        "#     print(f'Voicefixer file')\n",
        "#     pd.display(pd.Audio(noisy[i].T, rate=config['sr']))\n",
        "#     print(f'corresponding produced file')\n",
        "#     pd.display(pd.Audio(gt[i].T, rate=config['sr']))\n",
        "#     print('')"
      ]
    },
    {
      "attachments": {},
      "cell_type": "markdown",
      "metadata": {
        "id": "yetGVJIo-RpU"
      },
      "source": [
        "## Model architecture"
      ]
    },
    {
      "cell_type": "code",
      "execution_count": 13,
      "metadata": {
        "id": "EOw2Z1B4-RpU"
      },
      "outputs": [],
      "source": [
        "# some values for the model\n",
        "input_shape = (441000, 1)\n",
        "output_channels = 1\n",
        "filter_size = config['filter_size']\n",
        "kernel_size = config['kernel_size']\n",
        "\n",
        "\n",
        "# build model with 12 layers\n",
        "def build_model(input_shape):\n",
        "\n",
        "    # define model\n",
        "    model = keras.Sequential(name='PostNet_Conv1D')\n",
        "    model.add(keras.Input(shape=input_shape))\n",
        "\n",
        "    # add layer \n",
        "    model.add(keras.layers.Conv1D(filters=filter_size, kernel_size=kernel_size, padding='same'))\n",
        "    model.add(keras.layers.Activation('tanh'))\n",
        "\n",
        "    # Add the remaining Conv1D layers\n",
        "    for _ in range(11):\n",
        "        model.add(keras.layers.Conv1D(filters=filter_size, kernel_size=kernel_size, padding='same'))\n",
        "        model.add(keras.layers.Activation('tanh'))\n",
        "\n",
        "    # Add the final Conv1D layer\n",
        "    model.add(keras.layers.Conv1D(filters=output_channels, kernel_size=1, padding='same'))\n",
        "    model.add(keras.layers.Activation('tanh'))\n",
        "\n",
        "    return model"
      ]
    },
    {
      "cell_type": "code",
      "execution_count": 14,
      "metadata": {
<<<<<<< HEAD
        "id": "8bvxm4mILqCa",
        "outputId": "c2799b6b-0ee6-43fd-ab52-ad57f60e6ebd",
        "colab": {
          "base_uri": "https://localhost:8080/"
        }
      },
      "outputs": [
        {
          "output_type": "stream",
          "name": "stdout",
          "text": [
            "Model: \"PostNet_Conv1D\"\n",
            "_________________________________________________________________\n",
            " Layer (type)                Output Shape              Param #   \n",
            "=================================================================\n",
            " conv1d (Conv1D)             (None, 441000, 2)         4         \n",
            "                                                                 \n",
            " activation (Activation)     (None, 441000, 2)         0         \n",
            "                                                                 \n",
            " conv1d_1 (Conv1D)           (None, 441000, 2)         6         \n",
            "                                                                 \n",
            " activation_1 (Activation)   (None, 441000, 2)         0         \n",
            "                                                                 \n",
            " conv1d_2 (Conv1D)           (None, 441000, 2)         6         \n",
            "                                                                 \n",
            " activation_2 (Activation)   (None, 441000, 2)         0         \n",
            "                                                                 \n",
            " conv1d_3 (Conv1D)           (None, 441000, 2)         6         \n",
            "                                                                 \n",
            " activation_3 (Activation)   (None, 441000, 2)         0         \n",
            "                                                                 \n",
            " conv1d_4 (Conv1D)           (None, 441000, 2)         6         \n",
            "                                                                 \n",
            " activation_4 (Activation)   (None, 441000, 2)         0         \n",
            "                                                                 \n",
            " conv1d_5 (Conv1D)           (None, 441000, 2)         6         \n",
            "                                                                 \n",
            " activation_5 (Activation)   (None, 441000, 2)         0         \n",
            "                                                                 \n",
            " conv1d_6 (Conv1D)           (None, 441000, 2)         6         \n",
            "                                                                 \n",
            " activation_6 (Activation)   (None, 441000, 2)         0         \n",
            "                                                                 \n",
            " conv1d_7 (Conv1D)           (None, 441000, 2)         6         \n",
            "                                                                 \n",
            " activation_7 (Activation)   (None, 441000, 2)         0         \n",
            "                                                                 \n",
            " conv1d_8 (Conv1D)           (None, 441000, 2)         6         \n",
            "                                                                 \n",
            " activation_8 (Activation)   (None, 441000, 2)         0         \n",
            "                                                                 \n",
            " conv1d_9 (Conv1D)           (None, 441000, 2)         6         \n",
            "                                                                 \n",
            " activation_9 (Activation)   (None, 441000, 2)         0         \n",
            "                                                                 \n",
            " conv1d_10 (Conv1D)          (None, 441000, 2)         6         \n",
            "                                                                 \n",
            " activation_10 (Activation)  (None, 441000, 2)         0         \n",
            "                                                                 \n",
            " conv1d_11 (Conv1D)          (None, 441000, 2)         6         \n",
            "                                                                 \n",
            " activation_11 (Activation)  (None, 441000, 2)         0         \n",
            "                                                                 \n",
            " conv1d_12 (Conv1D)          (None, 441000, 1)         3         \n",
            "                                                                 \n",
            " activation_12 (Activation)  (None, 441000, 1)         0         \n",
            "                                                                 \n",
            "=================================================================\n",
            "Total params: 73\n",
            "Trainable params: 73\n",
            "Non-trainable params: 0\n",
            "_________________________________________________________________\n"
=======
        "colab": {
          "base_uri": "https://localhost:8080/",
          "height": 235
        },
        "id": "8bvxm4mILqCa",
        "outputId": "3a0d26aa-3e5d-4757-cf28-03db237b0ebe"
      },
      "outputs": [
        {
          "ename": "NameError",
          "evalue": "ignored",
          "output_type": "error",
          "traceback": [
            "\u001b[0;31m---------------------------------------------------------------------------\u001b[0m",
            "\u001b[0;31mNameError\u001b[0m                                 Traceback (most recent call last)",
            "\u001b[0;32m<ipython-input-9-725205005a81>\u001b[0m in \u001b[0;36m<cell line: 29>\u001b[0;34m()\u001b[0m\n\u001b[1;32m     27\u001b[0m \u001b[0;34m\u001b[0m\u001b[0m\n\u001b[1;32m     28\u001b[0m \u001b[0;31m# set speechfile for prediction\u001b[0m\u001b[0;34m\u001b[0m\u001b[0;34m\u001b[0m\u001b[0m\n\u001b[0;32m---> 29\u001b[0;31m \u001b[0mdataset\u001b[0m \u001b[0;34m=\u001b[0m \u001b[0mtest_dataset\u001b[0m\u001b[0;34m.\u001b[0m\u001b[0munbatch\u001b[0m\u001b[0;34m(\u001b[0m\u001b[0;34m)\u001b[0m\u001b[0;34m.\u001b[0m\u001b[0mas_numpy_iterator\u001b[0m\u001b[0;34m(\u001b[0m\u001b[0;34m)\u001b[0m\u001b[0;34m\u001b[0m\u001b[0;34m\u001b[0m\u001b[0m\n\u001b[0m\u001b[1;32m     30\u001b[0m \u001b[0mspeech_for_predicition\u001b[0m \u001b[0;34m=\u001b[0m \u001b[0;34m[\u001b[0m\u001b[0;34m]\u001b[0m\u001b[0;34m\u001b[0m\u001b[0;34m\u001b[0m\u001b[0m\n\u001b[1;32m     31\u001b[0m \u001b[0;32mfor\u001b[0m \u001b[0mi\u001b[0m\u001b[0;34m,\u001b[0m \u001b[0msample\u001b[0m \u001b[0;32min\u001b[0m \u001b[0menumerate\u001b[0m\u001b[0;34m(\u001b[0m\u001b[0mdataset\u001b[0m\u001b[0;34m)\u001b[0m\u001b[0;34m:\u001b[0m\u001b[0;34m\u001b[0m\u001b[0;34m\u001b[0m\u001b[0m\n",
            "\u001b[0;31mNameError\u001b[0m: name 'test_dataset' is not defined"
>>>>>>> db8018c (changes)
          ]
        }
      ],
      "source": [
        "\n",
        "# get model\n",
        "model = build_model(input_shape = input_shape)\n",
        "\n",
        "\n",
        "# define callbacks\n",
        "log_dir = '/content/drive/MyDrive/#Post_processing_net_for_speech_enhancement/logs/' + datetime.datetime.now().strftime(\"%Y%m%d-%H%M%S\")\n",
        "checkpoint_dir = '/content/drive/MyDrive/#Post_processing_net_for_speech_enhancement/model_checkpoint'\n",
        "\n",
        "\n",
        "save_callback = keras.callbacks.ModelCheckpoint(\n",
        "    filepath=checkpoint_dir,\n",
        "    save_best_only=False,\n",
        "    monitor='val_loss',\n",
        "    verbose=0)\n",
        "\n",
        "tensorboard_callback = keras.callbacks.TensorBoard(\n",
        "    log_dir= log_dir,\n",
        "    histogram_freq=1,\n",
        "    write_graph=True,\n",
        "    write_images=True,\n",
        "    write_steps_per_second=True,\n",
        "    update_freq='epoch',\n",
        "    profile_batch=2,\n",
        "    embeddings_freq=1)\n",
        "\n",
        "\n",
        "\n",
        "# set speechfile for prediction\n",
        "dataset = test_dataset.unbatch().as_numpy_iterator()\n",
        "speech_for_predicition = []\n",
        "for i, sample in enumerate(dataset):\n",
        "    speech_for_predicition.append(sample[0])\n",
        "    break\n",
        "speech_for_predicition = speech_for_predicition[0]\n",
        "\n",
        "\n",
        "# define custom callback\n",
        "class CustomCallback(keras.callbacks.Callback):\n",
        "\n",
        "    def on_epoch_end(self, epoch, logs=None):\n",
        "        \n",
        "        # print(logs)\n",
        "        print('---------------------')\n",
        "        print(f'Epoch {epoch+1} Metrics:')\n",
        "        print(logs)\n",
        "        print('---------------------')\n",
        "        print('')\n",
        "        \n",
        "\n",
        "        #save audio file to disk\n",
        "\n",
        "        # get audio file from model prediciton\n",
        "        audio = self.model.predict(speech_for_predicition)\n",
        "        \n",
        "        if not tf.is_tensor(audio):\n",
        "          audio = tf.convert_to_tensor(audio)\n",
        "\n",
        "        # change shape to (441000, 1)\n",
        "        audio = tf.squeeze(audio, axis=-1).numpy()\n",
        "\n",
        "        # normalize audio with numpy\n",
        "        audio = librosa.util.normalize(audio)\n",
        "\n",
        "        # save plot    \n",
        "        plt.figure(figsize=(8, 4))\n",
        "        plt.plot(audio)\n",
        "        plt.savefig(log_dir + '_audiofile_epoch' + str(epoch+1) + '.png')\n",
        "        plt.close()\n",
        "\n",
        "        # write audio file to disk\n",
        "        write(log_dir + '_audiofile_epoch' + str(epoch+1) + '.wav', 44100, audio)\n",
        " \n",
        "\n",
        "        # # convert audio back to tensor\n",
        "        # audio = tf.convert_to_tensor(audio)\n",
        "        # # write audio file to disk\n",
        "        # audio = tf.audio.encode_wav(audio, sample_rate=tf.constant(44100, dtype=tf.int32))\n",
        "        # # write audio file to disk\n",
        "        # tf.io.write_file(log_dir + '_audiofile_epoch' + str(epoch+1) + '.wav', audio, name=None)\n",
        "\n",
        "\n",
        "\n",
        "        #------------------------------------\n",
        "        # # save audio file to tf.summary.audio and event files for tensorboard\n",
        "        # path = log_dir + '/audiosummary'\n",
        "        # writer = tf.summary.create_file_writer(path)\n",
        "        # with writer.as_default():\n",
        "\n",
        "        #     # get audio file from model\n",
        "        #     audio = self.model.output\n",
        "\n",
        "                \n",
        "            # # check if audio is keras tensor\n",
        "            # if tf.keras.backend.is_keras_tensor(audio) == True:\n",
        "            #     print('is keras tensor')\n",
        "\n",
        "\n",
        "        #     # audio.shape=(None, 441000, 1) should be (1, 441000, 1)\n",
        "        #     # change shape to (1, 441000, 1)\n",
        "        #     audio = tf.squeeze(audio, axis=0)\n",
        "        #     audio = tf.expand_dims(audio, axis=0)\n",
        "\n",
        "        #     # # print audio tensor\n",
        "        #     # print(audio)\n",
        "        #     # print(audio.dtype)\n",
        "        #     # print(audio.shape)\n",
        "\n",
        "        #     # write audio file to tf.summary.audio\n",
        "        #     tf.summary.audio('audio_' + str(epoch), audio, int(config['sr']), step=epoch, max_outputs=1)\n",
        "        #     writer.flush()\n",
        "\n",
        "\n",
        "# early_stopping_callback = keras.callbacks.EarlyStopping(\n",
        "#     monitor='val_loss',\n",
        "#     patience=5,\n",
        "#     verbose=1)\n",
        "\n",
        "# keras.callbacks.LambdaCallback(\n",
        "#     on_epoch_end = logging_wav)\n",
        "\n",
        "\n",
        "\n",
        "# compile model\n",
        "model.compile(optimizer = keras.optimizers.Adam(learning_rate=0.01),\n",
        "              loss = tf.keras.losses.MeanAbsolutePercentageError(),\n",
        "              metrics = tf.keras.losses.MeanSquaredError())\n",
        "\n",
        "model.summary()\n",
        "\n"
      ]
    },
    {
      "cell_type": "code",
      "execution_count": 16,
      "metadata": {
        "colab": {
          "base_uri": "https://localhost:8080/"
        },
        "id": "xqfY8P-a-RpU",
        "outputId": "4edadc0c-4b33-42c3-ac3b-1700c0e211ca"
      },
      "outputs": [
        {
          "name": "stdout",
          "output_type": "stream",
          "text": [
            "Epoch 1/2\n",
            "      6/Unknown - 6s 254ms/step - loss: 286469.5000 - mean_squared_error: 0.0195"
          ]
        },
        {
          "output_type": "stream",
          "name": "stderr",
          "text": [
            "WARNING:tensorflow:Callback method `on_train_batch_end` is slow compared to the batch time (batch time: 0.0730s vs `on_train_batch_end` time: 0.1178s). Check your callbacks.\n"
          ]
        },
        {
          "output_type": "stream",
          "name": "stdout",
          "text": [
            "      8/Unknown - 6s 213ms/step - loss: 307137.4375 - mean_squared_error: 0.0194"
          ]
        },
        {
          "name": "stderr",
          "output_type": "stream",
          "text": [
            "WARNING:absl:Found untraced functions such as _jit_compiled_convolution_op, _jit_compiled_convolution_op, _jit_compiled_convolution_op, _jit_compiled_convolution_op, _jit_compiled_convolution_op while saving (showing 5 of 13). These functions will not be directly callable after loading.\n"
          ]
        },
        {
          "name": "stdout",
          "output_type": "stream",
          "text": [
            "---------------------\n",
            "Epoch 1 Metrics:\n",
            "{'loss': 307137.4375, 'mean_squared_error': 0.01944153569638729, 'val_loss': 771950.75, 'val_mean_squared_error': 0.01683572307229042}\n",
            "---------------------\n",
            "\n",
            "13782/13782 [==============================] - 31s 2ms/step\n",
            "8/8 [==============================] - 59s 8s/step - loss: 307137.4375 - mean_squared_error: 0.0194 - val_loss: 771950.7500 - val_mean_squared_error: 0.0168\n",
            "Epoch 2/2\n",
            "8/8 [==============================] - ETA: 0s - loss: 325106.6562 - mean_squared_error: 0.0193"
          ]
        },
        {
          "name": "stderr",
          "output_type": "stream",
          "text": [
            "WARNING:absl:Found untraced functions such as _jit_compiled_convolution_op, _jit_compiled_convolution_op, _jit_compiled_convolution_op, _jit_compiled_convolution_op, _jit_compiled_convolution_op while saving (showing 5 of 13). These functions will not be directly callable after loading.\n"
          ]
        },
        {
          "name": "stdout",
          "output_type": "stream",
          "text": [
            "---------------------\n",
            "Epoch 2 Metrics:\n",
<<<<<<< HEAD
            "{'loss': 325106.65625, 'mean_squared_error': 0.019328361377120018, 'val_loss': 145339.828125, 'val_mean_squared_error': 0.013826528564095497}\n",
            "---------------------\n",
            "\n",
            "13782/13782 [==============================] - 33s 2ms/step\n",
            "8/8 [==============================] - 46s 6s/step - loss: 325106.6562 - mean_squared_error: 0.0193 - val_loss: 145339.8281 - val_mean_squared_error: 0.0138\n"
=======
            "{'loss': 81454.4921875, 'mean_squared_error': 0.019816560670733452, 'val_loss': 72141.140625, 'val_mean_squared_error': 0.016939841210842133}\n",
            "---------------------\n",
            "\n",
            "13782/13782 [==============================] - 32s 2ms/step\n",
            "75/75 [==============================] - 85s 1s/step - loss: 81454.4922 - mean_squared_error: 0.0198 - val_loss: 72141.1406 - val_mean_squared_error: 0.0169\n",
            "Epoch 3/10\n",
            "75/75 [==============================] - ETA: 0s - loss: 48853.7266 - mean_squared_error: 0.0198"
          ]
        },
        {
          "name": "stderr",
          "output_type": "stream",
          "text": [
            "WARNING:absl:Found untraced functions such as _jit_compiled_convolution_op, _jit_compiled_convolution_op, _jit_compiled_convolution_op, _jit_compiled_convolution_op, _jit_compiled_convolution_op while saving (showing 5 of 13). These functions will not be directly callable after loading.\n"
          ]
        },
        {
          "name": "stdout",
          "output_type": "stream",
          "text": [
            "---------------------\n",
            "Epoch 3 Metrics:\n",
            "{'loss': 48853.7265625, 'mean_squared_error': 0.019781263545155525, 'val_loss': 12503.1279296875, 'val_mean_squared_error': 0.01689184084534645}\n",
            "---------------------\n",
            "\n",
            "13782/13782 [==============================] - 34s 2ms/step\n",
            "75/75 [==============================] - 89s 1s/step - loss: 48853.7266 - mean_squared_error: 0.0198 - val_loss: 12503.1279 - val_mean_squared_error: 0.0169\n",
            "Epoch 4/10\n",
            "75/75 [==============================] - ETA: 0s - loss: 44055.0195 - mean_squared_error: 0.0198"
          ]
        },
        {
          "name": "stderr",
          "output_type": "stream",
          "text": [
            "WARNING:absl:Found untraced functions such as _jit_compiled_convolution_op, _jit_compiled_convolution_op, _jit_compiled_convolution_op, _jit_compiled_convolution_op, _jit_compiled_convolution_op while saving (showing 5 of 13). These functions will not be directly callable after loading.\n"
          ]
        },
        {
          "name": "stdout",
          "output_type": "stream",
          "text": [
            "---------------------\n",
            "Epoch 4 Metrics:\n",
            "{'loss': 44055.01953125, 'mean_squared_error': 0.01977471262216568, 'val_loss': 87873.0390625, 'val_mean_squared_error': 0.016941845417022705}\n",
            "---------------------\n",
            "\n",
            "13782/13782 [==============================] - 32s 2ms/step\n",
            "75/75 [==============================] - 129s 2s/step - loss: 44055.0195 - mean_squared_error: 0.0198 - val_loss: 87873.0391 - val_mean_squared_error: 0.0169\n",
            "Epoch 5/10\n",
            "75/75 [==============================] - ETA: 0s - loss: 42747.5391 - mean_squared_error: 0.0198"
          ]
        },
        {
          "name": "stderr",
          "output_type": "stream",
          "text": [
            "WARNING:absl:Found untraced functions such as _jit_compiled_convolution_op, _jit_compiled_convolution_op, _jit_compiled_convolution_op, _jit_compiled_convolution_op, _jit_compiled_convolution_op while saving (showing 5 of 13). These functions will not be directly callable after loading.\n"
          ]
        },
        {
          "name": "stdout",
          "output_type": "stream",
          "text": [
            "---------------------\n",
            "Epoch 5 Metrics:\n",
            "{'loss': 42747.5390625, 'mean_squared_error': 0.019774354994297028, 'val_loss': 134988.484375, 'val_mean_squared_error': 0.016960887238383293}\n",
            "---------------------\n",
            "\n",
            "13782/13782 [==============================] - 32s 2ms/step\n",
            "75/75 [==============================] - 90s 1s/step - loss: 42747.5391 - mean_squared_error: 0.0198 - val_loss: 134988.4844 - val_mean_squared_error: 0.0170\n",
            "Epoch 6/10\n",
            "75/75 [==============================] - ETA: 0s - loss: 54826.5977 - mean_squared_error: 0.0198"
          ]
        },
        {
          "name": "stderr",
          "output_type": "stream",
          "text": [
            "WARNING:absl:Found untraced functions such as _jit_compiled_convolution_op, _jit_compiled_convolution_op, _jit_compiled_convolution_op, _jit_compiled_convolution_op, _jit_compiled_convolution_op while saving (showing 5 of 13). These functions will not be directly callable after loading.\n"
          ]
        },
        {
          "name": "stdout",
          "output_type": "stream",
          "text": [
            "---------------------\n",
            "Epoch 6 Metrics:\n",
            "{'loss': 54826.59765625, 'mean_squared_error': 0.01978338323533535, 'val_loss': 10403.8173828125, 'val_mean_squared_error': 0.016933398321270943}\n",
            "---------------------\n",
            "\n",
            "13782/13782 [==============================] - 33s 2ms/step\n",
            "75/75 [==============================] - 84s 1s/step - loss: 54826.5977 - mean_squared_error: 0.0198 - val_loss: 10403.8174 - val_mean_squared_error: 0.0169\n",
            "Epoch 7/10\n",
            "75/75 [==============================] - ETA: 0s - loss: 24050.7539 - mean_squared_error: 0.0198"
          ]
        },
        {
          "name": "stderr",
          "output_type": "stream",
          "text": [
            "WARNING:absl:Found untraced functions such as _jit_compiled_convolution_op, _jit_compiled_convolution_op, _jit_compiled_convolution_op, _jit_compiled_convolution_op, _jit_compiled_convolution_op while saving (showing 5 of 13). These functions will not be directly callable after loading.\n"
          ]
        },
        {
          "name": "stdout",
          "output_type": "stream",
          "text": [
            "---------------------\n",
            "Epoch 7 Metrics:\n",
            "{'loss': 24050.75390625, 'mean_squared_error': 0.01976555772125721, 'val_loss': 113390.1484375, 'val_mean_squared_error': 0.01697470434010029}\n",
            "---------------------\n",
            "\n",
            "13782/13782 [==============================] - 33s 2ms/step\n",
            "75/75 [==============================] - 86s 1s/step - loss: 24050.7539 - mean_squared_error: 0.0198 - val_loss: 113390.1484 - val_mean_squared_error: 0.0170\n",
            "Epoch 8/10\n",
            "75/75 [==============================] - ETA: 0s - loss: 40478.5977 - mean_squared_error: 0.0198"
          ]
        },
        {
          "name": "stderr",
          "output_type": "stream",
          "text": [
            "WARNING:absl:Found untraced functions such as _jit_compiled_convolution_op, _jit_compiled_convolution_op, _jit_compiled_convolution_op, _jit_compiled_convolution_op, _jit_compiled_convolution_op while saving (showing 5 of 13). These functions will not be directly callable after loading.\n"
          ]
        },
        {
          "name": "stdout",
          "output_type": "stream",
          "text": [
            "---------------------\n",
            "Epoch 8 Metrics:\n",
            "{'loss': 40478.59765625, 'mean_squared_error': 0.019775167107582092, 'val_loss': 32761.84375, 'val_mean_squared_error': 0.016922321170568466}\n",
            "---------------------\n",
            "\n",
            "13782/13782 [==============================] - 33s 2ms/step\n",
            "75/75 [==============================] - 90s 1s/step - loss: 40478.5977 - mean_squared_error: 0.0198 - val_loss: 32761.8438 - val_mean_squared_error: 0.0169\n",
            "Epoch 9/10\n",
            "75/75 [==============================] - ETA: 0s - loss: 22408.1445 - mean_squared_error: 0.0198"
          ]
        },
        {
          "name": "stderr",
          "output_type": "stream",
          "text": [
            "WARNING:absl:Found untraced functions such as _jit_compiled_convolution_op, _jit_compiled_convolution_op, _jit_compiled_convolution_op, _jit_compiled_convolution_op, _jit_compiled_convolution_op while saving (showing 5 of 13). These functions will not be directly callable after loading.\n"
          ]
        },
        {
          "name": "stdout",
          "output_type": "stream",
          "text": [
            "---------------------\n",
            "Epoch 9 Metrics:\n",
            "{'loss': 22408.14453125, 'mean_squared_error': 0.019763903692364693, 'val_loss': 30498.01953125, 'val_mean_squared_error': 0.016898538917303085}\n",
            "---------------------\n",
            "\n",
            "13782/13782 [==============================] - 33s 2ms/step\n",
            "75/75 [==============================] - 90s 1s/step - loss: 22408.1445 - mean_squared_error: 0.0198 - val_loss: 30498.0195 - val_mean_squared_error: 0.0169\n",
            "Epoch 10/10\n",
            "75/75 [==============================] - ETA: 0s - loss: 24906.9746 - mean_squared_error: 0.0198"
          ]
        },
        {
          "name": "stderr",
          "output_type": "stream",
          "text": [
            "WARNING:absl:Found untraced functions such as _jit_compiled_convolution_op, _jit_compiled_convolution_op, _jit_compiled_convolution_op, _jit_compiled_convolution_op, _jit_compiled_convolution_op while saving (showing 5 of 13). These functions will not be directly callable after loading.\n"
          ]
        },
        {
          "name": "stdout",
          "output_type": "stream",
          "text": [
            "---------------------\n",
            "Epoch 10 Metrics:\n",
            "{'loss': 24906.974609375, 'mean_squared_error': 0.019763527438044548, 'val_loss': 50535.05859375, 'val_mean_squared_error': 0.016924411058425903}\n",
            "---------------------\n",
            "\n",
            "13782/13782 [==============================] - 33s 2ms/step\n",
            "75/75 [==============================] - 83s 1s/step - loss: 24906.9746 - mean_squared_error: 0.0198 - val_loss: 50535.0586 - val_mean_squared_error: 0.0169\n"
>>>>>>> db8018c (changes)
          ]
        }
      ],
      "source": [
<<<<<<< HEAD
        "# Clear any logs from previous runs\n",
        "!rm -rf logs_dir\n",
=======
>>>>>>> db8018c (changes)
        "\n",
        "# fit model\n",
        "history = model.fit(train_dataset,\n",
        "                    epochs=config['n_epochs'],\n",
        "                    validation_data=test_dataset,\n",
        "                    callbacks=[save_callback, tensorboard_callback, CustomCallback()])\n",
        "\n",
        "# save model\n",
        "model.save('/content/drive/MyDrive/#Post_processing_net_for_speech_enhancement/model.h5')\n",
        "\n",
        "# save history\n",
        "with open('/content/drive/MyDrive/#Post_processing_net_for_speech_enhancement/history.json', 'w+') as fp:\n",
        "    json.dump(history.history, fp, sort_keys=True, indent=4)\n",
        "\n"
      ]
    },
    {
      "cell_type": "code",
<<<<<<< HEAD
      "execution_count": 17,
=======
      "execution_count": null,
      "metadata": {},
      "outputs": [],
      "source": [
        "# launch tensorboard for visualization\n",
        "\n",
        "%tensorboard --logdir log_dir"
      ]
    },
    {
      "cell_type": "code",
      "execution_count": 13,
>>>>>>> db8018c (changes)
      "metadata": {
        "colab": {
          "base_uri": "https://localhost:8080/",
          "height": 493
        },
        "id": "4RyC0b6g-RpU",
        "outputId": "2d6935a3-8a1a-481b-ee40-6db5174eb3db"
      },
      "outputs": [
        {
          "data": {
            "image/png": "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",
            "text/plain": [
              "<Figure size 640x480 with 1 Axes>"
<<<<<<< HEAD
            ],
            "image/png": "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\n"
=======
            ]
>>>>>>> db8018c (changes)
          },
          "metadata": {},
          "output_type": "display_data"
        }
      ],
      "source": [
        "# plot mse\n",
        "train_mse = history.history['mean_squared_error']\n",
        "eval_mse = history.history['val_mean_squared_error']\n",
        "\n",
        "fig2 = plt.figure()\n",
        "plt.plot(range(config['n_epochs']), train_mse, label='train')\n",
        "plt.plot(range(config['n_epochs']), eval_mse, label='test')\n",
        "plt.legend()\n",
        "plt.grid(True)\n",
        "plt.xlabel('Epochs')\n",
        "plt.ylabel('mse')\n",
        "plt.title('Training with ' \n",
        "                           + str(config['n_epochs'])\n",
        "                           + ' epochs \\n batch-size: '\n",
        "                           + str(config['batch_size']))\n",
        "                     \n",
        "plt.show()  "
      ]
<<<<<<< HEAD
    },
    {
      "cell_type": "code",
      "source": [
        "# Load the TensorBoard notebook extension\n",
        "\n",
        "%tensorboard --logdir logs"
      ],
      "metadata": {
        "id": "6X0u10S3XFUz",
        "outputId": "e062f1c6-c9ed-486b-8785-269b66988fe4",
        "colab": {
          "base_uri": "https://localhost:8080/",
          "height": 208
        }
      },
      "execution_count": 20,
      "outputs": [
        {
          "output_type": "display_data",
          "data": {
            "text/plain": [
              "ERROR: Failed to launch TensorBoard (exited with 1).\n",
              "Contents of stderr:\n",
              "2023-06-09 11:01:11.146954: W tensorflow/compiler/tf2tensorrt/utils/py_utils.cc:38] TF-TRT Warning: Could not find TensorRT\n",
              "/usr/local/lib/python3.10/dist-packages/tensorboard_data_server/bin/server: /lib/x86_64-linux-gnu/libc.so.6: version `GLIBC_2.33' not found (required by /usr/local/lib/python3.10/dist-packages/tensorboard_data_server/bin/server)\n",
              "/usr/local/lib/python3.10/dist-packages/tensorboard_data_server/bin/server: /lib/x86_64-linux-gnu/libc.so.6: version `GLIBC_2.34' not found (required by /usr/local/lib/python3.10/dist-packages/tensorboard_data_server/bin/server)\n",
              "/usr/local/lib/python3.10/dist-packages/tensorboard_data_server/bin/server: /lib/x86_64-linux-gnu/libc.so.6: version `GLIBC_2.32' not found (required by /usr/local/lib/python3.10/dist-packages/tensorboard_data_server/bin/server)\n",
              "Address already in use\n",
              "Port 6006 is in use by another program. Either identify and stop that program, or start the server with a different port."
            ]
          },
          "metadata": {}
        }
      ]
=======
>>>>>>> db8018c (changes)
    }
  ],
  "metadata": {
    "accelerator": "GPU",
    "colab": {
      "gpuType": "T4",
      "provenance": []
    },
    "kernelspec": {
      "display_name": "Python 3",
      "name": "python3"
    },
    "language_info": {
      "codemirror_mode": {
        "name": "ipython",
        "version": 3
      },
      "file_extension": ".py",
      "mimetype": "text/x-python",
      "name": "python",
      "nbconvert_exporter": "python",
      "pygments_lexer": "ipython3",
      "version": "3.9.16"
    },
    "orig_nbformat": 4
  },
  "nbformat": 4,
  "nbformat_minor": 0
}
