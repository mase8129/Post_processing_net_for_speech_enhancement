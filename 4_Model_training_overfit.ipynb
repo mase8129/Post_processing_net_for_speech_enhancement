{
 "cells": [
  {
   "attachments": {},
   "cell_type": "markdown",
   "metadata": {},
   "source": [
    "# Load tfrecords, define model and train"
   ]
  },
  {
   "cell_type": "code",
   "execution_count": 1,
   "metadata": {},
   "outputs": [
    {
     "name": "stdout",
     "output_type": "stream",
     "text": [
      "Tensorflow Version: 2.9.1\n",
      "GPU not available :(\n"
     ]
    }
   ],
   "source": [
    "# Dependencies\n",
    "\n",
    " # TensorFlow and tf.keras\n",
    "import tensorflow as tf\n",
    "print('Tensorflow Version:', tf.__version__)\n",
    "from tensorflow import keras\n",
    "from keras import layers\n",
    "from keras import models\n",
    "\n",
    "#Tensorboard\n",
    "%load_ext tensorboard\n",
    "\n",
    "\n",
    "# Helper libraries\n",
    "import os\n",
    "import os.path\n",
    "import glob\n",
    "import librosa\n",
    "import librosa.display\n",
    "import json\n",
    "from pathlib import Path\n",
    "import matplotlib.pyplot as plt\n",
    "import numpy as np\n",
    "import IPython.display as pd\n",
    "import pprint\n",
    "import datetime        \n",
    "from scipy.io.wavfile import write\n",
    "\n",
    "\n",
    "# Check if the GPU is available (otherwise computing will take a looooonnnnggggg time)\n",
    "print(\"GPU\", \"available (YESS!!!!)\" if tf.config.list_physical_devices(\"GPU\") else \"not available :(\")\n",
    "\n"
   ]
  },
  {
   "cell_type": "code",
   "execution_count": 18,
   "metadata": {},
   "outputs": [
    {
     "name": "stdout",
     "output_type": "stream",
     "text": [
      "/Dataset/train_tfrecords\n",
      "/Users/marius\n",
      "Number of elements in train_dataset: 0\n"
     ]
    }
   ],
   "source": [
    "# load train tfrecords\n",
    "\n",
    "# get relative path of train tfrecords\n",
    "print(os.path.abspath(os.path.join(os.path.dirname(os.getcwd()), os.pardir, 'Dataset', 'train_tfrecords')))\n",
    "\n",
    "# current directory\n",
    "print(os.getcwd())\n",
    "\n",
    "\n",
    "tfrecords_paths = glob.glob('../Dataset/train_tfrecords/*.tfrecords')\n",
    "train_dataset = tf.data.TFRecordDataset(tfrecords_paths[:3])\n",
    "\n",
    "\n",
    "# count elements in train_dataset\n",
    "print(f'Number of elements in train_dataset: {len([d for d in train_dataset])}')\n",
    "\n"
   ]
  },
  {
   "cell_type": "code",
   "execution_count": 2,
   "metadata": {},
   "outputs": [],
   "source": [
    "# load global settings in config-dictionary\n",
    "with open('./MA_CONFIG.json', 'r') as fp:\n",
    "  config = json.load(fp)\n",
    "\n",
    "# define some extra values\n",
    "config['batch_size'] = 16\n",
    "config['shuffle_buffer_size'] = 300\n",
    "\n",
    "# print config\n",
    "#print(json.dumps(config, indent=4))\n",
    "\n",
    "# save config to disk\n",
    "with open('./MA_CONFIG.json', 'w+') as fp:\n",
    "    json.dump(config, fp, sort_keys=True, indent=4)\n"
   ]
  },
  {
   "attachments": {},
   "cell_type": "markdown",
   "metadata": {},
   "source": [
    "# funcs "
   ]
  },
  {
   "cell_type": "code",
   "execution_count": 3,
   "metadata": {},
   "outputs": [],
   "source": [
    "# autotune for performance\n",
    "AUTOTUNE = tf.data.experimental.AUTOTUNE\n",
    "\n",
    "# decode tfrecords\n",
    "def decode_tf_records(seralized_example):\n",
    "    feature_description = {\n",
    "        \"voicefixer\": tf.io.FixedLenFeature([], tf.string),\n",
    "        \"produced\": tf.io.FixedLenFeature([], tf.string),\n",
    "    }\n",
    "    example = tf.io.parse_single_example(seralized_example, feature_description)\n",
    "\n",
    "    voicefixer, _ = tf.audio.decode_wav(example[\"voicefixer\"], desired_channels=-1)\n",
    "    produced, _ = tf.audio.decode_wav(example[\"produced\"], desired_channels=-1)\n",
    "    \n",
    "    return voicefixer, produced\n",
    "\n",
    "\n",
    "def slicing_audio(voicefixer, produced):\n",
    "    # generate random integer between 0 and 10*44100-3*44100\n",
    "    random_int = tf.random.uniform(shape=[], minval=0, maxval=7*44100, dtype=tf.int32)\n",
    "    # slice audio\n",
    "    voicefixer = voicefixer[random_int:random_int+3*44100]\n",
    "    produced = produced[random_int:random_int+3*44100]\n",
    "    return voicefixer, produced\n",
    " \n",
    "\n",
    "#--------------------------------------------\n",
    "# helper func\n",
    "def float2pcm(sig, dtype='int16'):\n",
    "    sig = np.asarray(sig)\n",
    "    if sig.dtype.kind != 'f':\n",
    "        raise TypeError(\"'sig' must be a float array\")\n",
    "    dtype = np.dtype(dtype)\n",
    "    if dtype.kind not in 'iu':\n",
    "        raise TypeError(\"'dtype' must be an integer type\")\n",
    "\n",
    "    i = np.iinfo(dtype)\n",
    "    abs_max = 2 ** (i.bits - 1)\n",
    "    offset = i.min + abs_max\n",
    "    return (sig * abs_max + offset).clip(i.min, i.max).astype(dtype)\n",
    "\n",
    "\n",
    "#--------------------------------------------\n",
    "# get audiofile from dataset and use as input for prediction\n",
    "def set_speechfile(test_dataset, log_dir):\n",
    "\n",
    "\n",
    "    dataset = test_dataset.unbatch().as_numpy_iterator()\n",
    "    speech_for_predicition = []\n",
    "    for i, sample in enumerate(dataset):\n",
    "        speech_for_predicition.append(sample[0])\n",
    "        break\n",
    "    # # normalize speechfile\n",
    "    speech_for_predicition = speech_for_predicition[0]\n",
    "    speech_for_predicition = librosa.util.normalize(speech_for_predicition)\n",
    "    \n",
    "    # save speech file used for prediction\n",
    "    # save plot to disk\n",
    "    plt.figure(figsize=(8, 4))\n",
    "    x = np.arange(0, len(speech_for_predicition)/44100, 1/44100)\n",
    "    plt.plot(x, speech_for_predicition)\n",
    "    plt.title('Speechfile used for prediction')\n",
    "    plt.xlabel('Time in s')\n",
    "    plt.ylabel('Amplitude')\n",
    "    plt.savefig(log_dir + '/_audiofile_for_prediction.png')\n",
    "    plt.show()\n",
    "    \n",
    "    # save audiofile to disk\n",
    "    write(log_dir + '/_audiofile_for_prediction' + '.wav', int(44100), float2pcm(speech_for_predicition))\n",
    "   \n",
    "    return speech_for_predicition\n",
    "\n",
    "\n",
    "#--------------------------------------------\n",
    "# save audio files from logs to tf.summary.audio and event files for tensorboard\n",
    "def save_audio_to_summaries(log_dir):\n",
    "    \n",
    "        # get audio files from logs\n",
    "        fps = glob.glob(log_dir + '/*.wav')\n",
    "        path_audiosummary = log_dir + '/audiosummary/'\n",
    "\n",
    "        # for each audio file\n",
    "        for idx, fp in enumerate(fps):\n",
    "            \n",
    "            # write audiosummary of one audio file to disk\n",
    "             writer = tf.summary.create_file_writer(path_audiosummary)\n",
    "             with writer.as_default():\n",
    "                \n",
    "                # load audio file as tensor\n",
    "                file = tf.io.read_file(fp)\n",
    "                audio = tf.audio.decode_wav(file, desired_channels=1)\n",
    "\n",
    "                # write audio file to tf.summary.audio\n",
    "                name = fp.split('/')[-1]\n",
    "                tf.summary.audio(name , tf.expand_dims(audio[0], 0), int(44100), step=idx)\n",
    "                writer.flush()\n",
    "\n",
    "\n",
    "#--------------------------------------------\n",
    "import tensorflow as tf\n",
    "class TFSpectralConvergence(tf.keras.layers.Layer):\n",
    "    \"\"\"Spectral convergence loss.\"\"\"\n",
    "\n",
    "    def __init__(self):\n",
    "        \"\"\"Initialize.\"\"\"\n",
    "        super().__init__()\n",
    "\n",
    "    def call(self, y_mag, x_mag):\n",
    "        \"\"\"Calculate forward propagation.\n",
    "        Args:\n",
    "            y_mag (Tensor): Magnitude spectrogram of groundtruth signal (B, #frames, #freq_bins).\n",
    "            x_mag (Tensor): Magnitude spectrogram of predicted signal (B, #frames, #freq_bins).\n",
    "        Returns:\n",
    "            Tensor: Spectral convergence loss value.\n",
    "        \"\"\"\n",
    "        return tf.norm(y_mag - x_mag, ord=\"fro\", axis=(-2, -1)) / tf.norm(y_mag, ord=\"fro\", axis=(-2, -1))\n",
    "\n",
    "\n",
    "class TFLogSTFTMagnitude(tf.keras.layers.Layer):\n",
    "    \"\"\"Log STFT magnitude loss module.\"\"\"\n",
    "\n",
    "    def __init__(self):\n",
    "        \"\"\"Initialize.\"\"\"\n",
    "        super().__init__()\n",
    "\n",
    "    def call(self, y_mag, x_mag):\n",
    "        \"\"\"Calculate forward propagation.\n",
    "        Args:\n",
    "            y_mag (Tensor): Magnitude spectrogram of groundtruth signal (B, #frames, #freq_bins).\n",
    "            x_mag (Tensor): Magnitude spectrogram of predicted signal (B, #frames, #freq_bins).\n",
    "        Returns:\n",
    "            Tensor: Spectral convergence loss value.\n",
    "        \"\"\"\n",
    "        return tf.abs(tf.math.log(y_mag) - tf.math.log(x_mag))\n",
    "\n",
    "\n",
    "class TFSTFT(tf.keras.layers.Layer):\n",
    "    \"\"\"STFT loss module.\"\"\"\n",
    "\n",
    "    def __init__(self, frame_length=600, frame_step=120, fft_length=1024):\n",
    "        \"\"\"Initialize.\"\"\"\n",
    "        super().__init__()\n",
    "        self.frame_length = frame_length\n",
    "        self.frame_step = frame_step\n",
    "        self.fft_length = fft_length\n",
    "        self.spectral_convergenge_loss = TFSpectralConvergence()\n",
    "        self.log_stft_magnitude_loss = TFLogSTFTMagnitude()\n",
    "\n",
    "    def call(self, y, x):\n",
    "        \"\"\"Calculate forward propagation.\n",
    "        Args:\n",
    "            y (Tensor): Groundtruth signal (B, T).\n",
    "            x (Tensor): Predicted signal (B, T).\n",
    "        Returns:\n",
    "            Tensor: Spectral convergence loss value (pre-reduce).\n",
    "            Tensor: Log STFT magnitude loss value (pre-reduce).\n",
    "        \"\"\"\n",
    "\n",
    "        x = tf.transpose(x, perm=[0, 2, 1])\n",
    "        y = tf.transpose(y, perm=[0, 2, 1])        \n",
    "\n",
    "        x_mag = tf.abs(tf.signal.stft(signals=x,\n",
    "                                      frame_length=self.frame_length,\n",
    "                                      frame_step=self.frame_step,\n",
    "                                      fft_length=self.fft_length))\n",
    "        y_mag = tf.abs(tf.signal.stft(signals=y,\n",
    "                                      frame_length=self.frame_length,\n",
    "                                      frame_step=self.frame_step,\n",
    "                                      fft_length=self.fft_length))\n",
    "\n",
    "        # add small number to prevent nan value.\n",
    "        # compatible with pytorch version.\n",
    "        x_mag = tf.math.sqrt(x_mag ** 2 + 1e-7)\n",
    "        y_mag = tf.math.sqrt(y_mag ** 2 + 1e-7)\n",
    "\n",
    "        sc_loss = self.spectral_convergenge_loss(y_mag, x_mag)\n",
    "        mag_loss = self.log_stft_magnitude_loss(y_mag, x_mag)\n",
    "\n",
    "        return sc_loss, mag_loss\n",
    "    \n",
    "    \n",
    "class TFMultiResolutionSTFT(tf.keras.layers.Layer):\n",
    "    \"\"\"Multi resolution STFT loss module.\"\"\"\n",
    "\n",
    "    def __init__(self,\n",
    "                 fft_lengths=[1024, 2048, 512],\n",
    "                 frame_lengths=[600, 1200, 240],\n",
    "                 frame_steps=[120, 240, 50],):\n",
    "        \"\"\"Initialize Multi resolution STFT loss module.\n",
    "        Args:\n",
    "            frame_lengths (list): List of FFT sizes.\n",
    "            frame_steps (list): List of hop sizes.\n",
    "            fft_lengths (list): List of window lengths.\n",
    "        \"\"\"\n",
    "        super().__init__()\n",
    "        assert len(frame_lengths) == len(frame_steps) == len(fft_lengths)\n",
    "        self.stft_losses = []\n",
    "        for frame_length, frame_step, fft_length in zip(frame_lengths, frame_steps, fft_lengths):\n",
    "            self.stft_losses.append(TFSTFT(frame_length, frame_step, fft_length))\n",
    "\n",
    "    def call(self, y, x):\n",
    "        \"\"\"Calculate forward propagation.\n",
    "        Args:\n",
    "            y (Tensor): Groundtruth signal (B, T).\n",
    "            x (Tensor): Predicted signal (B, T).\n",
    "        Returns:\n",
    "            Tensor: Multi resolution spectral convergence loss value.\n",
    "            Tensor: Multi resolution log STFT magnitude loss value.\n",
    "        \"\"\"\n",
    "        sc_loss = 0.0\n",
    "        mag_loss = 0.0\n",
    "        for f in self.stft_losses:\n",
    "            sc_l, mag_l = f(y, x)\n",
    "            sc_loss += tf.reduce_mean(sc_l)\n",
    "            mag_loss += tf.reduce_mean(mag_l)\n",
    "\n",
    "        sc_loss /= len(self.stft_losses)\n",
    "        mag_loss /= len(self.stft_losses)\n",
    "\n",
    "        return mag_loss\n",
    "\n",
    "\n",
    "class CustomLoss(tf.keras.losses.Loss):\n",
    "    \"\"\"custom loss calculated from MAE and Multiresolution STFT loss\"\"\"\n",
    "\n",
    "    def __init__(self):\n",
    "        super().__init__()\n",
    "        self.mae = tf.keras.losses.MeanAbsoluteError()\n",
    "        self.stft = TFMultiResolutionSTFT()\n",
    "\n",
    "\n",
    "    def call(self, y_true, y_pred):\n",
    "        mae = self.mae(y_true, y_pred)\n",
    "        stft = self.stft(y_true, y_pred)\n",
    "        return ((mae+stft) / 2)\n",
    "\n",
    "\n"
   ]
  },
  {
   "attachments": {},
   "cell_type": "markdown",
   "metadata": {},
   "source": [
    "# Check if losses work"
   ]
  },
  {
   "cell_type": "code",
   "execution_count": 75,
   "metadata": {},
   "outputs": [
    {
     "name": "stdout",
     "output_type": "stream",
     "text": [
      "(132300, 1) (132300, 1)\n",
      "(132300, 1) (132300, 1)\n",
      "(132300, 1) (132300, 1)\n",
      "(132300, 1) (132300, 1)\n",
      "(132300, 1) (132300, 1)\n",
      "(132300, 1) (132300, 1)\n",
      "(132300, 1) (132300, 1)\n",
      "(132300, 1) (132300, 1)\n",
      "(132300, 1) (132300, 1)\n",
      "(132300, 1) (132300, 1)\n",
      "(1, 132300)\n"
     ]
    },
    {
     "data": {
      "image/png": "[encoded data removed]",
      "text/plain": [
       "<Figure size 1000x400 with 2 Axes>"
      ]
     },
     "metadata": {},
     "output_type": "display_data"
    },
    {
     "name": "stdout",
     "output_type": "stream",
     "text": [
      "Stft loss is:1.1987042427062988\n",
      "MAE loss is:0.10224420577287674\n",
      "custom loss is:0.6504742503166199\n",
      "-------------------\n",
      "Stft loss is:1.3180347681045532\n",
      "MAE loss is:0.13288937509059906\n",
      "custom loss is:0.7254620790481567\n",
      "-------------------\n",
      "Stft loss is:1.107269287109375\n",
      "MAE loss is:0.06669673323631287\n",
      "custom loss is:0.5869830250740051\n",
      "-------------------\n",
      "Stft loss is:1.2269645929336548\n",
      "MAE loss is:0.10266312956809998\n",
      "custom loss is:0.6648138761520386\n",
      "-------------------\n",
      "Stft loss is:1.2447004318237305\n",
      "MAE loss is:0.09991291165351868\n",
      "custom loss is:0.6723066568374634\n",
      "-------------------\n",
      "Stft loss is:1.1453046798706055\n",
      "MAE loss is:0.07670972496271133\n",
      "custom loss is:0.6110072135925293\n",
      "-------------------\n",
      "Stft loss is:1.0932892560958862\n",
      "MAE loss is:0.07160969078540802\n",
      "custom loss is:0.5824494957923889\n",
      "-------------------\n",
      "Stft loss is:1.1576342582702637\n",
      "MAE loss is:0.10166207700967789\n",
      "custom loss is:0.6296481490135193\n",
      "-------------------\n",
      "Stft loss is:1.223617672920227\n",
      "MAE loss is:0.09556885063648224\n",
      "custom loss is:0.6595932841300964\n",
      "-------------------\n",
      "Stft loss is:1.149762749671936\n",
      "MAE loss is:0.06558263301849365\n",
      "custom loss is:0.6076726913452148\n",
      "-------------------\n"
     ]
    }
   ],
   "source": [
    "import numpy as np\n",
    "loss1 = TFMultiResolutionSTFT()\n",
    "loss2 = tf.keras.losses.MeanAbsoluteError()\n",
    "loss3 = CustomLoss()\n",
    "\n",
    "\n",
    "# load train tfrecords\n",
    "path = glob.glob('/Users/marius/Documents/Uni/TU_Berlin_Master/Masterarbeit/Dataset/train_tfrecords/*.tfrecords')\n",
    "DS = tf.data.TFRecordDataset(path[:5])\n",
    "DS = DS.map(decode_tf_records, num_parallel_calls=AUTOTUNE)\n",
    "DS = DS.map(slicing_audio, num_parallel_calls=AUTOTUNE)\n",
    "\n",
    "\n",
    "sf = []\n",
    "label = []\n",
    "\n",
    "for y, X in DS.take(10):\n",
    "  print(y.numpy().shape, X.numpy().shape)\n",
    "  sf.append(y.numpy().T)\n",
    "  label.append(X.numpy().T)\n",
    "\n",
    "print(sf[0].shape)\n",
    "\n",
    "# # transpose \n",
    "# file = tf.transpose(sf[0])\n",
    "# file2 = sf[0].T\n",
    "\n",
    "# print(file.shape)\n",
    "# print(file2.shape)\n",
    "\n",
    "\n",
    "# plot waveform\n",
    "import matplotlib.pyplot as plt\n",
    "plt.figure(figsize=(10, 4))\n",
    "plt.subplot(2, 1, 1)     \n",
    "plt.title('voicefixer')\n",
    "plt.plot(sf[0].T)\n",
    "plt.subplot(2, 1, 2)\n",
    "plt.title('Label')\n",
    "plt.plot(label[0].T)\n",
    "plt.tight_layout()\n",
    "plt.show()\n",
    "\n",
    "\n",
    "\n",
    "for i in range(len(sf)):\n",
    "  print(f'Stft loss is:{loss1(label[i], sf[i])}')\n",
    "  print(f'MAE loss is:{loss2(label[i], sf[i])}')\n",
    "  print(f'custom loss is:{loss3(label[i], sf[i])}')\n",
    "  print('-------------------')\n",
    "\n",
    "\n"
   ]
  },
  {
   "attachments": {},
   "cell_type": "markdown",
   "metadata": {},
   "source": [
    "# Load datasets"
   ]
  },
  {
   "cell_type": "code",
   "execution_count": 4,
   "metadata": {},
   "outputs": [
    {
     "name": "stdout",
     "output_type": "stream",
     "text": [
      "Number of elements in train_dataset: 1\n"
     ]
    },
    {
     "name": "stderr",
     "output_type": "stream",
     "text": [
      "2023-08-10 17:25:51.803797: I tensorflow/core/platform/cpu_feature_guard.cc:193] This TensorFlow binary is optimized with oneAPI Deep Neural Network Library (oneDNN) to use the following CPU instructions in performance-critical operations:  SSE4.1 SSE4.2\n",
      "To enable them in other operations, rebuild TensorFlow with the appropriate compiler flags.\n"
     ]
    }
   ],
   "source": [
    "# load train tfrecords\n",
    "tfrecords_paths = glob.glob('/Users/marius/Documents/Uni/TU_Berlin_Master/Masterarbeit/Dataset/train_tfrecords/*.tfrecords')\n",
    "train_dataset = tf.data.TFRecordDataset(tfrecords_paths[:1])\n",
    "train_dataset = train_dataset.take(1)\n",
    "train_dataset = train_dataset.map(decode_tf_records, num_parallel_calls=AUTOTUNE)\n",
    "train_dataset = train_dataset.map(slicing_audio, num_parallel_calls=AUTOTUNE)\n",
    "\n",
    "# count elements in train_dataset\n",
    "print(f'Number of elements in train_dataset: {len([d for d in train_dataset])}')\n",
    "\n",
    "# batching and shuffling\n",
    "train_dataset = train_dataset.shuffle(config['shuffle_buffer_size']).batch(config['batch_size'])\n"
   ]
  },
  {
   "cell_type": "code",
   "execution_count": 5,
   "metadata": {},
   "outputs": [
    {
     "name": "stdout",
     "output_type": "stream",
     "text": [
      "Number of elements in test_dataset: 1\n"
     ]
    }
   ],
   "source": [
    "# load test tfrecords\n",
    "tfrecords_paths = glob.glob('/Users/marius/Documents/Uni/TU_Berlin_Master/Masterarbeit/Dataset/test_tfrecords/*.tfrecords')\n",
    "test_dataset = tf.data.TFRecordDataset(tfrecords_paths[:1])\n",
    "test_dataset = test_dataset.take(1)\n",
    "\n",
    "test_dataset = test_dataset.map(decode_tf_records, num_parallel_calls=AUTOTUNE)\n",
    "test_dataset = test_dataset.map(slicing_audio, num_parallel_calls=AUTOTUNE)\n",
    "\n",
    "# count elements in test_dataset\n",
    "print(f'Number of elements in test_dataset: {len([d for d in test_dataset])}')\n",
    "\n",
    "# batching and shuffling\n",
    "test_dataset = test_dataset.shuffle(config['shuffle_buffer_size']).batch(config['batch_size'])\n"
   ]
  },
  {
   "cell_type": "code",
   "execution_count": 6,
   "metadata": {},
   "outputs": [
    {
     "name": "stdout",
     "output_type": "stream",
     "text": [
      "(1, 132300, 1)\n",
      "(1, 132300, 1)\n",
      "(1, 132300, 1)\n",
      "(1, 132300, 1)\n"
     ]
    }
   ],
   "source": [
    "# check if datasets are loaded correctly\n",
    "for d in train_dataset:\n",
    "    print(d[0].shape)\n",
    "    print(d[1].shape)\n",
    "    break   \n",
    "\n",
    "for d in test_dataset:\n",
    "    print(d[0].shape)\n",
    "    print(d[1].shape)\n",
    "    break"
   ]
  },
  {
   "attachments": {},
   "cell_type": "markdown",
   "metadata": {},
   "source": [
    "# Model architecture"
   ]
  },
  {
   "cell_type": "code",
   "execution_count": 7,
   "metadata": {},
   "outputs": [],
   "source": [
    "# some values for training\n",
    "config['n_epochs'] = 50\n",
    "config['learning_rate'] = 0.004\n",
    "# Filter:Kernel = 4:1 (see hifi-gan paper)\n",
    "config['filter_size'] = 64\n",
    "config['kernel_size'] = 5\n",
    "config['dropout_rate'] = 0.5\n",
    "\n",
    "# save config to disk\n",
    "with open('./MA_CONFIG.json', 'w+') as fp:\n",
    "    json.dump(config, fp, sort_keys=True, indent=4)"
   ]
  },
  {
   "cell_type": "code",
   "execution_count": 32,
   "metadata": {},
   "outputs": [],
   "source": [
    "# some values for the model\n",
    "input_shape = (3*44100, 1)\n",
    "output_channels = 1\n",
    "\n",
    "\n",
    "# build model with 12 layers\n",
    "def build_model(input_shape):\n",
    "\n",
    "    # define model\n",
    "    model = keras.Sequential(name='PostNet_Conv1D')\n",
    "    model.add(keras.Input(shape=input_shape))\n",
    "\n",
    "    # add layer \n",
    "    model.add(keras.layers.Conv1D(filters=config['filter_size'], kernel_size=config['kernel_size'], padding='same'))\n",
    "    # add dropout layer, batch normalization and activation layer\n",
    "    #model.add(keras.layers.Dropout(config['dropout_rate']))\n",
    "    #model.add(keras.layers.BatchNormalization())\n",
    "    model.add(keras.layers.Activation('tanh'))\n",
    "\n",
    "    # Add the remaining Conv1D layers\n",
    "    for _ in range(11):\n",
    "        model.add(keras.layers.Conv1D(filters=config['filter_size'], kernel_size=config['kernel_size'], padding='same'))\n",
    "        # add dropout layer, batch normalization and activation layer\n",
    "        #model.add(keras.layers.Dropout(config['dropout_rate']))\n",
    "        #model.add(keras.layers.BatchNormalization())\n",
    "        model.add(keras.layers.Activation('tanh'))\n",
    "\n",
    "    # Add the final Conv1D layer without activation layer\n",
    "    model.add(keras.layers.Conv1D(filters=output_channels, kernel_size=1, padding='same'))\n",
    "    #model.add(keras.layers.Dropout(config['dropout_rate']))\n",
    "    #model.add(keras.layers.BatchNormalization())\n",
    "\n",
    "    return model"
   ]
  },
  {
   "attachments": {},
   "cell_type": "markdown",
   "metadata": {},
   "source": [
    "# Callbacks and compile"
   ]
  },
  {
   "cell_type": "code",
   "execution_count": 33,
   "metadata": {},
   "outputs": [
    {
     "data": {
      "image/png": "[encoded data removed]",
      "text/plain": [
       "<Figure size 800x400 with 1 Axes>"
      ]
     },
     "metadata": {},
     "output_type": "display_data"
    },
    {
     "name": "stdout",
     "output_type": "stream",
     "text": [
      "Model: \"PostNet_Conv1D\"\n",
      "_________________________________________________________________\n",
      " Layer (type)                Output Shape              Param #   \n",
      "=================================================================\n",
      " conv1d_26 (Conv1D)          (None, 132300, 64)        384       \n",
      "                                                                 \n",
      " activation_12 (Activation)  (None, 132300, 64)        0         \n",
      "                                                                 \n",
      " conv1d_27 (Conv1D)          (None, 132300, 64)        20544     \n",
      "                                                                 \n",
      " activation_13 (Activation)  (None, 132300, 64)        0         \n",
      "                                                                 \n",
      " conv1d_28 (Conv1D)          (None, 132300, 64)        20544     \n",
      "                                                                 \n",
      " activation_14 (Activation)  (None, 132300, 64)        0         \n",
      "                                                                 \n",
      " conv1d_29 (Conv1D)          (None, 132300, 64)        20544     \n",
      "                                                                 \n",
      " activation_15 (Activation)  (None, 132300, 64)        0         \n",
      "                                                                 \n",
      " conv1d_30 (Conv1D)          (None, 132300, 64)        20544     \n",
      "                                                                 \n",
      " activation_16 (Activation)  (None, 132300, 64)        0         \n",
      "                                                                 \n",
      " conv1d_31 (Conv1D)          (None, 132300, 64)        20544     \n",
      "                                                                 \n",
      " activation_17 (Activation)  (None, 132300, 64)        0         \n",
      "                                                                 \n",
      " conv1d_32 (Conv1D)          (None, 132300, 64)        20544     \n",
      "                                                                 \n",
      " activation_18 (Activation)  (None, 132300, 64)        0         \n",
      "                                                                 \n",
      " conv1d_33 (Conv1D)          (None, 132300, 64)        20544     \n",
      "                                                                 \n",
      " activation_19 (Activation)  (None, 132300, 64)        0         \n",
      "                                                                 \n",
      " conv1d_34 (Conv1D)          (None, 132300, 64)        20544     \n",
      "                                                                 \n",
      " activation_20 (Activation)  (None, 132300, 64)        0         \n",
      "                                                                 \n",
      " conv1d_35 (Conv1D)          (None, 132300, 64)        20544     \n",
      "                                                                 \n",
      " activation_21 (Activation)  (None, 132300, 64)        0         \n",
      "                                                                 \n",
      " conv1d_36 (Conv1D)          (None, 132300, 64)        20544     \n",
      "                                                                 \n",
      " activation_22 (Activation)  (None, 132300, 64)        0         \n",
      "                                                                 \n",
      " conv1d_37 (Conv1D)          (None, 132300, 64)        20544     \n",
      "                                                                 \n",
      " activation_23 (Activation)  (None, 132300, 64)        0         \n",
      "                                                                 \n",
      " conv1d_38 (Conv1D)          (None, 132300, 1)         65        \n",
      "                                                                 \n",
      "=================================================================\n",
      "Total params: 226,433\n",
      "Trainable params: 226,433\n",
      "Non-trainable params: 0\n",
      "_________________________________________________________________\n"
     ]
    }
   ],
   "source": [
    "# initialize log_dir\n",
    "log_dir = \"./logs/\" + datetime.datetime.now().strftime(\"%Y%m%d-%H%M%S\")\n",
    "# make directory if not exist\n",
    "if not os.path.exists(log_dir):\n",
    "    os.makedirs(log_dir)\n",
    "\n",
    "\n",
    "#--------------------------------------------\n",
    "# define callbacks\n",
    "\n",
    "save_callback = keras.callbacks.ModelCheckpoint(\n",
    "    filepath='./model_checkpoint',\n",
    "    save_best_only=False,\n",
    "    monitor='val_loss',\n",
    "    verbose=0)\n",
    "\n",
    "tensorboard_callback = keras.callbacks.TensorBoard(\n",
    "    log_dir= log_dir,\n",
    "    histogram_freq=1,\n",
    "    write_graph=True,\n",
    "    write_images=True,\n",
    "    write_steps_per_second=True,\n",
    "    update_freq='epoch',\n",
    "    profile_batch=0,\n",
    "    embeddings_freq=1)\n",
    "\n",
    "# early_stopping_callback = keras.callbacks.EarlyStopping(\n",
    "#     monitor='val_loss',\n",
    "#     patience=5,\n",
    "#     verbose=1)\n",
    "\n",
    "\n",
    "# get speechfile for prediction\n",
    "speech_for_predicition = set_speechfile(test_dataset, log_dir)\n",
    "\n",
    "#--------------------------------------------\n",
    "# # define custom callback\n",
    "# class CustomCallback(keras.callbacks.Callback):\n",
    "     \n",
    "#     # define functions to happen during training after each epoch\n",
    "#     def on_epoch_end(self, epoch, logs=None):\n",
    "        \n",
    "#         # # print(logs) to check metrics\n",
    "#         # print('---------------------')\n",
    "#         # print(f'Epoch {epoch+1} Metrics:')\n",
    "#         # print(logs)\n",
    "#         # print('---------------------')\n",
    "#         # print('')\n",
    "        \n",
    "\n",
    "#         # save predicted audio file after each epoch to disk\n",
    "#         # get audio file from model prediciton\n",
    "#         audio = self.model.predict(speech_for_predicition)\n",
    "\n",
    "#         # change shape to (len(audio), 1)\n",
    "#         audio = tf.squeeze(audio, axis=-1)\n",
    "#         audio = tf.squeeze(audio, axis=-1).numpy()\n",
    "#         #print(audio.shape)\n",
    "\n",
    "#         # normalize audio with numpy\n",
    "#         #audio = librosa.util.normalize(audio).astype(np.float32)\n",
    "#         audio = audio.astype(np.float32)\n",
    "\n",
    "#         # save plot to disk\n",
    "#         plt.figure(figsize=(8, 4))\n",
    "#         x = np.arange(0, len(audio)/44100, 1/44100)\n",
    "#         plt.plot(x, audio)\n",
    "#         plt.title('Audiofile')\n",
    "#         plt.xlabel('Time in s')\n",
    "#         plt.ylabel('Amplitude')\n",
    "#         plt.savefig(log_dir + '/_audiofile_epoch' + str(epoch+1) + '.png')\n",
    "#         plt.close()\n",
    "\n",
    "#         # write audio file to disk (16-bit PCM WAV)\n",
    "#         write(log_dir + '/_audiofile_epoch' + str(epoch+1) + '.wav', 44100, float2pcm(audio))\n",
    "\n",
    "\n",
    "#--------------------------------------------\n",
    "# get model\n",
    "model = build_model(input_shape = input_shape)\n",
    "\n",
    "# compile model\n",
    "model.compile(optimizer = keras.optimizers.Adam(learning_rate=config['learning_rate']),\n",
    "              loss = CustomLoss(),\n",
    "              metrics = tf.keras.losses.MeanAbsoluteError())\n",
    "\n",
    "model.summary()\n"
   ]
  },
  {
   "cell_type": "code",
   "execution_count": 82,
   "metadata": {},
   "outputs": [],
   "source": [
    "# # Clear any logs from previous runs\n",
    "# !rm -rf ./logs/"
   ]
  },
  {
   "attachments": {},
   "cell_type": "markdown",
   "metadata": {},
   "source": [
    "# Model fit and save"
   ]
  },
  {
   "cell_type": "code",
   "execution_count": 34,
   "metadata": {},
   "outputs": [
    {
     "name": "stdout",
     "output_type": "stream",
     "text": [
      "Epoch 1/50\n"
     ]
    },
    {
     "name": "stdout",
     "output_type": "stream",
     "text": [
      "      1/Unknown - 4s 4s/step - loss: 1.2006 - mean_absolute_error: 0.0902"
     ]
    },
    {
     "name": "stderr",
     "output_type": "stream",
     "text": [
      "WARNING:absl:Found untraced functions such as _jit_compiled_convolution_op, _jit_compiled_convolution_op, _jit_compiled_convolution_op, _jit_compiled_convolution_op, _jit_compiled_convolution_op while saving (showing 5 of 13). These functions will not be directly callable after loading.\n"
     ]
    },
    {
     "name": "stdout",
     "output_type": "stream",
     "text": [
      "INFO:tensorflow:Assets written to: ./model_checkpoint/assets\n"
     ]
    },
    {
     "name": "stderr",
     "output_type": "stream",
     "text": [
      "INFO:tensorflow:Assets written to: ./model_checkpoint/assets\n"
     ]
    },
    {
     "name": "stdout",
     "output_type": "stream",
     "text": [
      "1/1 [==============================] - 7s 7s/step - loss: 1.2006 - mean_absolute_error: 0.0902 - val_loss: 1.2312 - val_mean_absolute_error: 0.9325\n",
      "Epoch 2/50\n",
      "1/1 [==============================] - ETA: 0s - loss: 1.2230 - mean_absolute_error: 0.9779"
     ]
    },
    {
     "name": "stderr",
     "output_type": "stream",
     "text": [
      "WARNING:absl:Found untraced functions such as _jit_compiled_convolution_op, _jit_compiled_convolution_op, _jit_compiled_convolution_op, _jit_compiled_convolution_op, _jit_compiled_convolution_op while saving (showing 5 of 13). These functions will not be directly callable after loading.\n"
     ]
    },
    {
     "name": "stdout",
     "output_type": "stream",
     "text": [
      "INFO:tensorflow:Assets written to: ./model_checkpoint/assets\n"
     ]
    },
    {
     "name": "stderr",
     "output_type": "stream",
     "text": [
      "INFO:tensorflow:Assets written to: ./model_checkpoint/assets\n"
     ]
    },
    {
     "name": "stdout",
     "output_type": "stream",
     "text": [
      "1/1 [==============================] - 4s 4s/step - loss: 1.2230 - mean_absolute_error: 0.9779 - val_loss: 0.8601 - val_mean_absolute_error: 0.4847\n",
      "Epoch 3/50\n",
      "1/1 [==============================] - ETA: 0s - loss: 0.9542 - mean_absolute_error: 0.4774"
     ]
    },
    {
     "name": "stderr",
     "output_type": "stream",
     "text": [
      "WARNING:absl:Found untraced functions such as _jit_compiled_convolution_op, _jit_compiled_convolution_op, _jit_compiled_convolution_op, _jit_compiled_convolution_op, _jit_compiled_convolution_op while saving (showing 5 of 13). These functions will not be directly callable after loading.\n"
     ]
    },
    {
     "name": "stdout",
     "output_type": "stream",
     "text": [
      "INFO:tensorflow:Assets written to: ./model_checkpoint/assets\n"
     ]
    },
    {
     "name": "stderr",
     "output_type": "stream",
     "text": [
      "INFO:tensorflow:Assets written to: ./model_checkpoint/assets\n"
     ]
    },
    {
     "name": "stdout",
     "output_type": "stream",
     "text": [
      "1/1 [==============================] - 4s 4s/step - loss: 0.9542 - mean_absolute_error: 0.4774 - val_loss: 1.0087 - val_mean_absolute_error: 0.7830\n",
      "Epoch 4/50\n",
      "1/1 [==============================] - ETA: 0s - loss: 1.0761 - mean_absolute_error: 0.7857"
     ]
    },
    {
     "name": "stderr",
     "output_type": "stream",
     "text": [
      "WARNING:absl:Found untraced functions such as _jit_compiled_convolution_op, _jit_compiled_convolution_op, _jit_compiled_convolution_op, _jit_compiled_convolution_op, _jit_compiled_convolution_op while saving (showing 5 of 13). These functions will not be directly callable after loading.\n"
     ]
    },
    {
     "name": "stdout",
     "output_type": "stream",
     "text": [
      "INFO:tensorflow:Assets written to: ./model_checkpoint/assets\n"
     ]
    },
    {
     "name": "stderr",
     "output_type": "stream",
     "text": [
      "INFO:tensorflow:Assets written to: ./model_checkpoint/assets\n"
     ]
    },
    {
     "name": "stdout",
     "output_type": "stream",
     "text": [
      "1/1 [==============================] - 4s 4s/step - loss: 1.0761 - mean_absolute_error: 0.7857 - val_loss: 1.4107 - val_mean_absolute_error: 1.7340\n",
      "Epoch 5/50\n",
      "1/1 [==============================] - ETA: 0s - loss: 1.4567 - mean_absolute_error: 1.7001"
     ]
    },
    {
     "name": "stderr",
     "output_type": "stream",
     "text": [
      "WARNING:absl:Found untraced functions such as _jit_compiled_convolution_op, _jit_compiled_convolution_op, _jit_compiled_convolution_op, _jit_compiled_convolution_op, _jit_compiled_convolution_op while saving (showing 5 of 13). These functions will not be directly callable after loading.\n"
     ]
    },
    {
     "name": "stdout",
     "output_type": "stream",
     "text": [
      "INFO:tensorflow:Assets written to: ./model_checkpoint/assets\n"
     ]
    },
    {
     "name": "stderr",
     "output_type": "stream",
     "text": [
      "INFO:tensorflow:Assets written to: ./model_checkpoint/assets\n"
     ]
    },
    {
     "name": "stdout",
     "output_type": "stream",
     "text": [
      "1/1 [==============================] - 4s 4s/step - loss: 1.4567 - mean_absolute_error: 1.7001 - val_loss: 0.8112 - val_mean_absolute_error: 0.3649\n",
      "Epoch 6/50\n",
      "1/1 [==============================] - ETA: 0s - loss: 0.8376 - mean_absolute_error: 0.3635"
     ]
    },
    {
     "name": "stderr",
     "output_type": "stream",
     "text": [
      "WARNING:absl:Found untraced functions such as _jit_compiled_convolution_op, _jit_compiled_convolution_op, _jit_compiled_convolution_op, _jit_compiled_convolution_op, _jit_compiled_convolution_op while saving (showing 5 of 13). These functions will not be directly callable after loading.\n"
     ]
    },
    {
     "name": "stdout",
     "output_type": "stream",
     "text": [
      "INFO:tensorflow:Assets written to: ./model_checkpoint/assets\n"
     ]
    },
    {
     "name": "stderr",
     "output_type": "stream",
     "text": [
      "INFO:tensorflow:Assets written to: ./model_checkpoint/assets\n"
     ]
    },
    {
     "name": "stdout",
     "output_type": "stream",
     "text": [
      "1/1 [==============================] - 4s 4s/step - loss: 0.8376 - mean_absolute_error: 0.3635 - val_loss: 0.9736 - val_mean_absolute_error: 0.5224\n",
      "Epoch 7/50\n",
      "1/1 [==============================] - ETA: 0s - loss: 0.9673 - mean_absolute_error: 0.5797"
     ]
    },
    {
     "name": "stderr",
     "output_type": "stream",
     "text": [
      "WARNING:absl:Found untraced functions such as _jit_compiled_convolution_op, _jit_compiled_convolution_op, _jit_compiled_convolution_op, _jit_compiled_convolution_op, _jit_compiled_convolution_op while saving (showing 5 of 13). These functions will not be directly callable after loading.\n"
     ]
    },
    {
     "name": "stdout",
     "output_type": "stream",
     "text": [
      "INFO:tensorflow:Assets written to: ./model_checkpoint/assets\n"
     ]
    },
    {
     "name": "stderr",
     "output_type": "stream",
     "text": [
      "INFO:tensorflow:Assets written to: ./model_checkpoint/assets\n"
     ]
    },
    {
     "name": "stdout",
     "output_type": "stream",
     "text": [
      "1/1 [==============================] - 4s 4s/step - loss: 0.9673 - mean_absolute_error: 0.5797 - val_loss: 2.1104 - val_mean_absolute_error: 2.4878\n",
      "Epoch 8/50\n",
      "1/1 [==============================] - ETA: 0s - loss: 2.1698 - mean_absolute_error: 2.4616"
     ]
    },
    {
     "name": "stderr",
     "output_type": "stream",
     "text": [
      "WARNING:absl:Found untraced functions such as _jit_compiled_convolution_op, _jit_compiled_convolution_op, _jit_compiled_convolution_op, _jit_compiled_convolution_op, _jit_compiled_convolution_op while saving (showing 5 of 13). These functions will not be directly callable after loading.\n"
     ]
    },
    {
     "name": "stdout",
     "output_type": "stream",
     "text": [
      "INFO:tensorflow:Assets written to: ./model_checkpoint/assets\n"
     ]
    },
    {
     "name": "stderr",
     "output_type": "stream",
     "text": [
      "INFO:tensorflow:Assets written to: ./model_checkpoint/assets\n"
     ]
    },
    {
     "name": "stdout",
     "output_type": "stream",
     "text": [
      "1/1 [==============================] - 4s 4s/step - loss: 2.1698 - mean_absolute_error: 2.4616 - val_loss: 1.3688 - val_mean_absolute_error: 1.2621\n",
      "Epoch 9/50\n",
      "1/1 [==============================] - ETA: 0s - loss: 1.3396 - mean_absolute_error: 1.2326"
     ]
    },
    {
     "name": "stderr",
     "output_type": "stream",
     "text": [
      "WARNING:absl:Found untraced functions such as _jit_compiled_convolution_op, _jit_compiled_convolution_op, _jit_compiled_convolution_op, _jit_compiled_convolution_op, _jit_compiled_convolution_op while saving (showing 5 of 13). These functions will not be directly callable after loading.\n"
     ]
    },
    {
     "name": "stdout",
     "output_type": "stream",
     "text": [
      "INFO:tensorflow:Assets written to: ./model_checkpoint/assets\n"
     ]
    },
    {
     "name": "stderr",
     "output_type": "stream",
     "text": [
      "INFO:tensorflow:Assets written to: ./model_checkpoint/assets\n"
     ]
    },
    {
     "name": "stdout",
     "output_type": "stream",
     "text": [
      "1/1 [==============================] - 4s 4s/step - loss: 1.3396 - mean_absolute_error: 1.2326 - val_loss: 1.4824 - val_mean_absolute_error: 1.6109\n",
      "Epoch 10/50\n",
      "1/1 [==============================] - ETA: 0s - loss: 1.4580 - mean_absolute_error: 1.5786"
     ]
    },
    {
     "name": "stderr",
     "output_type": "stream",
     "text": [
      "WARNING:absl:Found untraced functions such as _jit_compiled_convolution_op, _jit_compiled_convolution_op, _jit_compiled_convolution_op, _jit_compiled_convolution_op, _jit_compiled_convolution_op while saving (showing 5 of 13). These functions will not be directly callable after loading.\n"
     ]
    },
    {
     "name": "stdout",
     "output_type": "stream",
     "text": [
      "INFO:tensorflow:Assets written to: ./model_checkpoint/assets\n"
     ]
    },
    {
     "name": "stderr",
     "output_type": "stream",
     "text": [
      "INFO:tensorflow:Assets written to: ./model_checkpoint/assets\n"
     ]
    },
    {
     "name": "stdout",
     "output_type": "stream",
     "text": [
      "1/1 [==============================] - 4s 4s/step - loss: 1.4580 - mean_absolute_error: 1.5786 - val_loss: 0.6166 - val_mean_absolute_error: 0.1515\n",
      "Epoch 11/50\n",
      "1/1 [==============================] - ETA: 0s - loss: 0.7158 - mean_absolute_error: 0.2436"
     ]
    },
    {
     "name": "stderr",
     "output_type": "stream",
     "text": [
      "WARNING:absl:Found untraced functions such as _jit_compiled_convolution_op, _jit_compiled_convolution_op, _jit_compiled_convolution_op, _jit_compiled_convolution_op, _jit_compiled_convolution_op while saving (showing 5 of 13). These functions will not be directly callable after loading.\n"
     ]
    },
    {
     "name": "stdout",
     "output_type": "stream",
     "text": [
      "INFO:tensorflow:Assets written to: ./model_checkpoint/assets\n"
     ]
    },
    {
     "name": "stderr",
     "output_type": "stream",
     "text": [
      "INFO:tensorflow:Assets written to: ./model_checkpoint/assets\n"
     ]
    },
    {
     "name": "stdout",
     "output_type": "stream",
     "text": [
      "1/1 [==============================] - 4s 4s/step - loss: 0.7158 - mean_absolute_error: 0.2436 - val_loss: 1.4353 - val_mean_absolute_error: 1.3591\n",
      "Epoch 12/50\n",
      "1/1 [==============================] - ETA: 0s - loss: 1.4638 - mean_absolute_error: 1.3574"
     ]
    },
    {
     "name": "stderr",
     "output_type": "stream",
     "text": [
      "WARNING:absl:Found untraced functions such as _jit_compiled_convolution_op, _jit_compiled_convolution_op, _jit_compiled_convolution_op, _jit_compiled_convolution_op, _jit_compiled_convolution_op while saving (showing 5 of 13). These functions will not be directly callable after loading.\n"
     ]
    },
    {
     "name": "stdout",
     "output_type": "stream",
     "text": [
      "INFO:tensorflow:Assets written to: ./model_checkpoint/assets\n"
     ]
    },
    {
     "name": "stderr",
     "output_type": "stream",
     "text": [
      "INFO:tensorflow:Assets written to: ./model_checkpoint/assets\n"
     ]
    },
    {
     "name": "stdout",
     "output_type": "stream",
     "text": [
      "1/1 [==============================] - 4s 4s/step - loss: 1.4638 - mean_absolute_error: 1.3574 - val_loss: 1.1050 - val_mean_absolute_error: 0.8735\n",
      "Epoch 13/50\n",
      "1/1 [==============================] - ETA: 0s - loss: 1.1191 - mean_absolute_error: 0.8743"
     ]
    },
    {
     "name": "stderr",
     "output_type": "stream",
     "text": [
      "WARNING:absl:Found untraced functions such as _jit_compiled_convolution_op, _jit_compiled_convolution_op, _jit_compiled_convolution_op, _jit_compiled_convolution_op, _jit_compiled_convolution_op while saving (showing 5 of 13). These functions will not be directly callable after loading.\n"
     ]
    },
    {
     "name": "stdout",
     "output_type": "stream",
     "text": [
      "INFO:tensorflow:Assets written to: ./model_checkpoint/assets\n"
     ]
    },
    {
     "name": "stderr",
     "output_type": "stream",
     "text": [
      "INFO:tensorflow:Assets written to: ./model_checkpoint/assets\n"
     ]
    },
    {
     "name": "stdout",
     "output_type": "stream",
     "text": [
      "1/1 [==============================] - 4s 4s/step - loss: 1.1191 - mean_absolute_error: 0.8743 - val_loss: 0.7934 - val_mean_absolute_error: 0.3693\n",
      "Epoch 14/50\n",
      "1/1 [==============================] - ETA: 0s - loss: 0.7604 - mean_absolute_error: 0.3688"
     ]
    },
    {
     "name": "stderr",
     "output_type": "stream",
     "text": [
      "WARNING:absl:Found untraced functions such as _jit_compiled_convolution_op, _jit_compiled_convolution_op, _jit_compiled_convolution_op, _jit_compiled_convolution_op, _jit_compiled_convolution_op while saving (showing 5 of 13). These functions will not be directly callable after loading.\n"
     ]
    },
    {
     "name": "stdout",
     "output_type": "stream",
     "text": [
      "INFO:tensorflow:Assets written to: ./model_checkpoint/assets\n"
     ]
    },
    {
     "name": "stderr",
     "output_type": "stream",
     "text": [
      "INFO:tensorflow:Assets written to: ./model_checkpoint/assets\n"
     ]
    },
    {
     "name": "stdout",
     "output_type": "stream",
     "text": [
      "1/1 [==============================] - 4s 4s/step - loss: 0.7604 - mean_absolute_error: 0.3688 - val_loss: 0.6558 - val_mean_absolute_error: 0.2851\n",
      "Epoch 15/50\n",
      "1/1 [==============================] - ETA: 0s - loss: 0.7388 - mean_absolute_error: 0.3003"
     ]
    },
    {
     "name": "stderr",
     "output_type": "stream",
     "text": [
      "WARNING:absl:Found untraced functions such as _jit_compiled_convolution_op, _jit_compiled_convolution_op, _jit_compiled_convolution_op, _jit_compiled_convolution_op, _jit_compiled_convolution_op while saving (showing 5 of 13). These functions will not be directly callable after loading.\n"
     ]
    },
    {
     "name": "stdout",
     "output_type": "stream",
     "text": [
      "INFO:tensorflow:Assets written to: ./model_checkpoint/assets\n"
     ]
    },
    {
     "name": "stderr",
     "output_type": "stream",
     "text": [
      "INFO:tensorflow:Assets written to: ./model_checkpoint/assets\n"
     ]
    },
    {
     "name": "stdout",
     "output_type": "stream",
     "text": [
      "1/1 [==============================] - 4s 4s/step - loss: 0.7388 - mean_absolute_error: 0.3003 - val_loss: 0.6238 - val_mean_absolute_error: 0.1636\n",
      "Epoch 16/50\n",
      "1/1 [==============================] - ETA: 0s - loss: 0.7414 - mean_absolute_error: 0.1942"
     ]
    },
    {
     "name": "stderr",
     "output_type": "stream",
     "text": [
      "WARNING:absl:Found untraced functions such as _jit_compiled_convolution_op, _jit_compiled_convolution_op, _jit_compiled_convolution_op, _jit_compiled_convolution_op, _jit_compiled_convolution_op while saving (showing 5 of 13). These functions will not be directly callable after loading.\n"
     ]
    },
    {
     "name": "stdout",
     "output_type": "stream",
     "text": [
      "INFO:tensorflow:Assets written to: ./model_checkpoint/assets\n"
     ]
    },
    {
     "name": "stderr",
     "output_type": "stream",
     "text": [
      "INFO:tensorflow:Assets written to: ./model_checkpoint/assets\n"
     ]
    },
    {
     "name": "stdout",
     "output_type": "stream",
     "text": [
      "1/1 [==============================] - 4s 4s/step - loss: 0.7414 - mean_absolute_error: 0.1942 - val_loss: 0.7100 - val_mean_absolute_error: 0.2442\n",
      "Epoch 17/50\n",
      "1/1 [==============================] - ETA: 0s - loss: 0.7236 - mean_absolute_error: 0.2468"
     ]
    },
    {
     "name": "stderr",
     "output_type": "stream",
     "text": [
      "WARNING:absl:Found untraced functions such as _jit_compiled_convolution_op, _jit_compiled_convolution_op, _jit_compiled_convolution_op, _jit_compiled_convolution_op, _jit_compiled_convolution_op while saving (showing 5 of 13). These functions will not be directly callable after loading.\n"
     ]
    },
    {
     "name": "stdout",
     "output_type": "stream",
     "text": [
      "INFO:tensorflow:Assets written to: ./model_checkpoint/assets\n"
     ]
    },
    {
     "name": "stderr",
     "output_type": "stream",
     "text": [
      "INFO:tensorflow:Assets written to: ./model_checkpoint/assets\n"
     ]
    },
    {
     "name": "stdout",
     "output_type": "stream",
     "text": [
      "1/1 [==============================] - 4s 4s/step - loss: 0.7236 - mean_absolute_error: 0.2468 - val_loss: 0.5746 - val_mean_absolute_error: 0.1035\n",
      "Epoch 18/50\n",
      "1/1 [==============================] - ETA: 0s - loss: 0.6131 - mean_absolute_error: 0.1152"
     ]
    },
    {
     "name": "stderr",
     "output_type": "stream",
     "text": [
      "WARNING:absl:Found untraced functions such as _jit_compiled_convolution_op, _jit_compiled_convolution_op, _jit_compiled_convolution_op, _jit_compiled_convolution_op, _jit_compiled_convolution_op while saving (showing 5 of 13). These functions will not be directly callable after loading.\n"
     ]
    },
    {
     "name": "stdout",
     "output_type": "stream",
     "text": [
      "INFO:tensorflow:Assets written to: ./model_checkpoint/assets\n"
     ]
    },
    {
     "name": "stderr",
     "output_type": "stream",
     "text": [
      "INFO:tensorflow:Assets written to: ./model_checkpoint/assets\n"
     ]
    },
    {
     "name": "stdout",
     "output_type": "stream",
     "text": [
      "1/1 [==============================] - 4s 4s/step - loss: 0.6131 - mean_absolute_error: 0.1152 - val_loss: 0.6498 - val_mean_absolute_error: 0.2793\n",
      "Epoch 19/50\n",
      "1/1 [==============================] - ETA: 0s - loss: 0.7075 - mean_absolute_error: 0.2853"
     ]
    },
    {
     "name": "stderr",
     "output_type": "stream",
     "text": [
      "WARNING:absl:Found untraced functions such as _jit_compiled_convolution_op, _jit_compiled_convolution_op, _jit_compiled_convolution_op, _jit_compiled_convolution_op, _jit_compiled_convolution_op while saving (showing 5 of 13). These functions will not be directly callable after loading.\n"
     ]
    },
    {
     "name": "stdout",
     "output_type": "stream",
     "text": [
      "INFO:tensorflow:Assets written to: ./model_checkpoint/assets\n"
     ]
    },
    {
     "name": "stderr",
     "output_type": "stream",
     "text": [
      "INFO:tensorflow:Assets written to: ./model_checkpoint/assets\n"
     ]
    },
    {
     "name": "stdout",
     "output_type": "stream",
     "text": [
      "1/1 [==============================] - 4s 4s/step - loss: 0.7075 - mean_absolute_error: 0.2853 - val_loss: 0.7923 - val_mean_absolute_error: 0.2139\n",
      "Epoch 20/50\n",
      "1/1 [==============================] - ETA: 0s - loss: 0.7857 - mean_absolute_error: 0.2148"
     ]
    },
    {
     "name": "stderr",
     "output_type": "stream",
     "text": [
      "WARNING:absl:Found untraced functions such as _jit_compiled_convolution_op, _jit_compiled_convolution_op, _jit_compiled_convolution_op, _jit_compiled_convolution_op, _jit_compiled_convolution_op while saving (showing 5 of 13). These functions will not be directly callable after loading.\n"
     ]
    },
    {
     "name": "stdout",
     "output_type": "stream",
     "text": [
      "INFO:tensorflow:Assets written to: ./model_checkpoint/assets\n"
     ]
    },
    {
     "name": "stderr",
     "output_type": "stream",
     "text": [
      "INFO:tensorflow:Assets written to: ./model_checkpoint/assets\n"
     ]
    },
    {
     "name": "stdout",
     "output_type": "stream",
     "text": [
      "1/1 [==============================] - 4s 4s/step - loss: 0.7857 - mean_absolute_error: 0.2148 - val_loss: 0.6516 - val_mean_absolute_error: 0.1686\n",
      "Epoch 21/50\n",
      "1/1 [==============================] - ETA: 0s - loss: 0.6668 - mean_absolute_error: 0.1871"
     ]
    },
    {
     "name": "stderr",
     "output_type": "stream",
     "text": [
      "WARNING:absl:Found untraced functions such as _jit_compiled_convolution_op, _jit_compiled_convolution_op, _jit_compiled_convolution_op, _jit_compiled_convolution_op, _jit_compiled_convolution_op while saving (showing 5 of 13). These functions will not be directly callable after loading.\n"
     ]
    },
    {
     "name": "stdout",
     "output_type": "stream",
     "text": [
      "INFO:tensorflow:Assets written to: ./model_checkpoint/assets\n"
     ]
    },
    {
     "name": "stderr",
     "output_type": "stream",
     "text": [
      "INFO:tensorflow:Assets written to: ./model_checkpoint/assets\n"
     ]
    },
    {
     "name": "stdout",
     "output_type": "stream",
     "text": [
      "1/1 [==============================] - 4s 4s/step - loss: 0.6668 - mean_absolute_error: 0.1871 - val_loss: 0.5091 - val_mean_absolute_error: 0.0605\n",
      "Epoch 22/50\n",
      "1/1 [==============================] - ETA: 0s - loss: 0.5738 - mean_absolute_error: 0.0990"
     ]
    },
    {
     "name": "stderr",
     "output_type": "stream",
     "text": [
      "WARNING:absl:Found untraced functions such as _jit_compiled_convolution_op, _jit_compiled_convolution_op, _jit_compiled_convolution_op, _jit_compiled_convolution_op, _jit_compiled_convolution_op while saving (showing 5 of 13). These functions will not be directly callable after loading.\n"
     ]
    },
    {
     "name": "stdout",
     "output_type": "stream",
     "text": [
      "INFO:tensorflow:Assets written to: ./model_checkpoint/assets\n"
     ]
    },
    {
     "name": "stderr",
     "output_type": "stream",
     "text": [
      "INFO:tensorflow:Assets written to: ./model_checkpoint/assets\n"
     ]
    },
    {
     "name": "stdout",
     "output_type": "stream",
     "text": [
      "1/1 [==============================] - 4s 4s/step - loss: 0.5738 - mean_absolute_error: 0.0990 - val_loss: 0.8201 - val_mean_absolute_error: 0.5487\n",
      "Epoch 23/50\n",
      "1/1 [==============================] - ETA: 0s - loss: 0.8202 - mean_absolute_error: 0.5415"
     ]
    },
    {
     "name": "stderr",
     "output_type": "stream",
     "text": [
      "WARNING:absl:Found untraced functions such as _jit_compiled_convolution_op, _jit_compiled_convolution_op, _jit_compiled_convolution_op, _jit_compiled_convolution_op, _jit_compiled_convolution_op while saving (showing 5 of 13). These functions will not be directly callable after loading.\n"
     ]
    },
    {
     "name": "stdout",
     "output_type": "stream",
     "text": [
      "INFO:tensorflow:Assets written to: ./model_checkpoint/assets\n"
     ]
    },
    {
     "name": "stderr",
     "output_type": "stream",
     "text": [
      "INFO:tensorflow:Assets written to: ./model_checkpoint/assets\n"
     ]
    },
    {
     "name": "stdout",
     "output_type": "stream",
     "text": [
      "1/1 [==============================] - 4s 4s/step - loss: 0.8202 - mean_absolute_error: 0.5415 - val_loss: 0.7032 - val_mean_absolute_error: 0.4033\n",
      "Epoch 24/50\n",
      "1/1 [==============================] - ETA: 0s - loss: 0.7973 - mean_absolute_error: 0.3983"
     ]
    },
    {
     "name": "stderr",
     "output_type": "stream",
     "text": [
      "WARNING:absl:Found untraced functions such as _jit_compiled_convolution_op, _jit_compiled_convolution_op, _jit_compiled_convolution_op, _jit_compiled_convolution_op, _jit_compiled_convolution_op while saving (showing 5 of 13). These functions will not be directly callable after loading.\n"
     ]
    },
    {
     "name": "stdout",
     "output_type": "stream",
     "text": [
      "INFO:tensorflow:Assets written to: ./model_checkpoint/assets\n"
     ]
    },
    {
     "name": "stderr",
     "output_type": "stream",
     "text": [
      "INFO:tensorflow:Assets written to: ./model_checkpoint/assets\n"
     ]
    },
    {
     "name": "stdout",
     "output_type": "stream",
     "text": [
      "1/1 [==============================] - 4s 4s/step - loss: 0.7973 - mean_absolute_error: 0.3983 - val_loss: 0.6242 - val_mean_absolute_error: 0.2194\n",
      "Epoch 25/50\n",
      "1/1 [==============================] - ETA: 0s - loss: 0.6177 - mean_absolute_error: 0.2306"
     ]
    },
    {
     "name": "stderr",
     "output_type": "stream",
     "text": [
      "WARNING:absl:Found untraced functions such as _jit_compiled_convolution_op, _jit_compiled_convolution_op, _jit_compiled_convolution_op, _jit_compiled_convolution_op, _jit_compiled_convolution_op while saving (showing 5 of 13). These functions will not be directly callable after loading.\n"
     ]
    },
    {
     "name": "stdout",
     "output_type": "stream",
     "text": [
      "INFO:tensorflow:Assets written to: ./model_checkpoint/assets\n"
     ]
    },
    {
     "name": "stderr",
     "output_type": "stream",
     "text": [
      "INFO:tensorflow:Assets written to: ./model_checkpoint/assets\n"
     ]
    },
    {
     "name": "stdout",
     "output_type": "stream",
     "text": [
      "1/1 [==============================] - 4s 4s/step - loss: 0.6177 - mean_absolute_error: 0.2306 - val_loss: 0.5634 - val_mean_absolute_error: 0.0591\n",
      "Epoch 26/50\n",
      "1/1 [==============================] - ETA: 0s - loss: 0.5900 - mean_absolute_error: 0.0882"
     ]
    },
    {
     "name": "stderr",
     "output_type": "stream",
     "text": [
      "WARNING:absl:Found untraced functions such as _jit_compiled_convolution_op, _jit_compiled_convolution_op, _jit_compiled_convolution_op, _jit_compiled_convolution_op, _jit_compiled_convolution_op while saving (showing 5 of 13). These functions will not be directly callable after loading.\n"
     ]
    },
    {
     "name": "stdout",
     "output_type": "stream",
     "text": [
      "INFO:tensorflow:Assets written to: ./model_checkpoint/assets\n"
     ]
    },
    {
     "name": "stderr",
     "output_type": "stream",
     "text": [
      "INFO:tensorflow:Assets written to: ./model_checkpoint/assets\n"
     ]
    },
    {
     "name": "stdout",
     "output_type": "stream",
     "text": [
      "1/1 [==============================] - 4s 4s/step - loss: 0.5900 - mean_absolute_error: 0.0882 - val_loss: 0.7287 - val_mean_absolute_error: 0.2380\n",
      "Epoch 27/50\n",
      "1/1 [==============================] - ETA: 0s - loss: 0.7166 - mean_absolute_error: 0.2388"
     ]
    },
    {
     "name": "stderr",
     "output_type": "stream",
     "text": [
      "WARNING:absl:Found untraced functions such as _jit_compiled_convolution_op, _jit_compiled_convolution_op, _jit_compiled_convolution_op, _jit_compiled_convolution_op, _jit_compiled_convolution_op while saving (showing 5 of 13). These functions will not be directly callable after loading.\n"
     ]
    },
    {
     "name": "stdout",
     "output_type": "stream",
     "text": [
      "INFO:tensorflow:Assets written to: ./model_checkpoint/assets\n"
     ]
    },
    {
     "name": "stderr",
     "output_type": "stream",
     "text": [
      "INFO:tensorflow:Assets written to: ./model_checkpoint/assets\n"
     ]
    },
    {
     "name": "stdout",
     "output_type": "stream",
     "text": [
      "1/1 [==============================] - 4s 4s/step - loss: 0.7166 - mean_absolute_error: 0.2388 - val_loss: 0.5821 - val_mean_absolute_error: 0.1202\n",
      "Epoch 28/50\n",
      "1/1 [==============================] - ETA: 0s - loss: 0.5979 - mean_absolute_error: 0.1266"
     ]
    },
    {
     "name": "stderr",
     "output_type": "stream",
     "text": [
      "WARNING:absl:Found untraced functions such as _jit_compiled_convolution_op, _jit_compiled_convolution_op, _jit_compiled_convolution_op, _jit_compiled_convolution_op, _jit_compiled_convolution_op while saving (showing 5 of 13). These functions will not be directly callable after loading.\n"
     ]
    },
    {
     "name": "stdout",
     "output_type": "stream",
     "text": [
      "INFO:tensorflow:Assets written to: ./model_checkpoint/assets\n"
     ]
    },
    {
     "name": "stderr",
     "output_type": "stream",
     "text": [
      "INFO:tensorflow:Assets written to: ./model_checkpoint/assets\n"
     ]
    },
    {
     "name": "stdout",
     "output_type": "stream",
     "text": [
      "1/1 [==============================] - 4s 4s/step - loss: 0.5979 - mean_absolute_error: 0.1266 - val_loss: 0.6329 - val_mean_absolute_error: 0.2573\n",
      "Epoch 29/50\n",
      "1/1 [==============================] - ETA: 0s - loss: 0.6823 - mean_absolute_error: 0.2667"
     ]
    },
    {
     "name": "stderr",
     "output_type": "stream",
     "text": [
      "WARNING:absl:Found untraced functions such as _jit_compiled_convolution_op, _jit_compiled_convolution_op, _jit_compiled_convolution_op, _jit_compiled_convolution_op, _jit_compiled_convolution_op while saving (showing 5 of 13). These functions will not be directly callable after loading.\n"
     ]
    },
    {
     "name": "stdout",
     "output_type": "stream",
     "text": [
      "INFO:tensorflow:Assets written to: ./model_checkpoint/assets\n"
     ]
    },
    {
     "name": "stderr",
     "output_type": "stream",
     "text": [
      "INFO:tensorflow:Assets written to: ./model_checkpoint/assets\n"
     ]
    },
    {
     "name": "stdout",
     "output_type": "stream",
     "text": [
      "1/1 [==============================] - 4s 4s/step - loss: 0.6823 - mean_absolute_error: 0.2667 - val_loss: 0.6228 - val_mean_absolute_error: 0.2432\n",
      "Epoch 30/50\n",
      "1/1 [==============================] - ETA: 0s - loss: 0.7082 - mean_absolute_error: 0.2660"
     ]
    },
    {
     "name": "stderr",
     "output_type": "stream",
     "text": [
      "WARNING:absl:Found untraced functions such as _jit_compiled_convolution_op, _jit_compiled_convolution_op, _jit_compiled_convolution_op, _jit_compiled_convolution_op, _jit_compiled_convolution_op while saving (showing 5 of 13). These functions will not be directly callable after loading.\n"
     ]
    },
    {
     "name": "stdout",
     "output_type": "stream",
     "text": [
      "INFO:tensorflow:Assets written to: ./model_checkpoint/assets\n"
     ]
    },
    {
     "name": "stderr",
     "output_type": "stream",
     "text": [
      "INFO:tensorflow:Assets written to: ./model_checkpoint/assets\n"
     ]
    },
    {
     "name": "stdout",
     "output_type": "stream",
     "text": [
      "1/1 [==============================] - 4s 4s/step - loss: 0.7082 - mean_absolute_error: 0.2660 - val_loss: 0.5903 - val_mean_absolute_error: 0.0543\n",
      "Epoch 31/50\n",
      "1/1 [==============================] - ETA: 0s - loss: 0.5727 - mean_absolute_error: 0.0917"
     ]
    },
    {
     "name": "stderr",
     "output_type": "stream",
     "text": [
      "WARNING:absl:Found untraced functions such as _jit_compiled_convolution_op, _jit_compiled_convolution_op, _jit_compiled_convolution_op, _jit_compiled_convolution_op, _jit_compiled_convolution_op while saving (showing 5 of 13). These functions will not be directly callable after loading.\n"
     ]
    },
    {
     "name": "stdout",
     "output_type": "stream",
     "text": [
      "INFO:tensorflow:Assets written to: ./model_checkpoint/assets\n"
     ]
    },
    {
     "name": "stderr",
     "output_type": "stream",
     "text": [
      "INFO:tensorflow:Assets written to: ./model_checkpoint/assets\n"
     ]
    },
    {
     "name": "stdout",
     "output_type": "stream",
     "text": [
      "1/1 [==============================] - 4s 4s/step - loss: 0.5727 - mean_absolute_error: 0.0917 - val_loss: 0.7745 - val_mean_absolute_error: 0.2230\n",
      "Epoch 32/50\n",
      "1/1 [==============================] - ETA: 0s - loss: 0.6534 - mean_absolute_error: 0.2243"
     ]
    },
    {
     "name": "stderr",
     "output_type": "stream",
     "text": [
      "WARNING:absl:Found untraced functions such as _jit_compiled_convolution_op, _jit_compiled_convolution_op, _jit_compiled_convolution_op, _jit_compiled_convolution_op, _jit_compiled_convolution_op while saving (showing 5 of 13). These functions will not be directly callable after loading.\n"
     ]
    },
    {
     "name": "stdout",
     "output_type": "stream",
     "text": [
      "INFO:tensorflow:Assets written to: ./model_checkpoint/assets\n"
     ]
    },
    {
     "name": "stderr",
     "output_type": "stream",
     "text": [
      "INFO:tensorflow:Assets written to: ./model_checkpoint/assets\n"
     ]
    },
    {
     "name": "stdout",
     "output_type": "stream",
     "text": [
      "1/1 [==============================] - 4s 4s/step - loss: 0.6534 - mean_absolute_error: 0.2243 - val_loss: 0.7691 - val_mean_absolute_error: 0.2191\n",
      "Epoch 33/50\n",
      "1/1 [==============================] - ETA: 0s - loss: 0.6849 - mean_absolute_error: 0.2196"
     ]
    },
    {
     "name": "stderr",
     "output_type": "stream",
     "text": [
      "WARNING:absl:Found untraced functions such as _jit_compiled_convolution_op, _jit_compiled_convolution_op, _jit_compiled_convolution_op, _jit_compiled_convolution_op, _jit_compiled_convolution_op while saving (showing 5 of 13). These functions will not be directly callable after loading.\n"
     ]
    },
    {
     "name": "stdout",
     "output_type": "stream",
     "text": [
      "INFO:tensorflow:Assets written to: ./model_checkpoint/assets\n"
     ]
    },
    {
     "name": "stderr",
     "output_type": "stream",
     "text": [
      "INFO:tensorflow:Assets written to: ./model_checkpoint/assets\n"
     ]
    },
    {
     "name": "stdout",
     "output_type": "stream",
     "text": [
      "1/1 [==============================] - 4s 4s/step - loss: 0.6849 - mean_absolute_error: 0.2196 - val_loss: 0.5818 - val_mean_absolute_error: 0.0780\n",
      "Epoch 34/50\n",
      "1/1 [==============================] - ETA: 0s - loss: 0.5771 - mean_absolute_error: 0.1049"
     ]
    },
    {
     "name": "stderr",
     "output_type": "stream",
     "text": [
      "WARNING:absl:Found untraced functions such as _jit_compiled_convolution_op, _jit_compiled_convolution_op, _jit_compiled_convolution_op, _jit_compiled_convolution_op, _jit_compiled_convolution_op while saving (showing 5 of 13). These functions will not be directly callable after loading.\n"
     ]
    },
    {
     "name": "stdout",
     "output_type": "stream",
     "text": [
      "INFO:tensorflow:Assets written to: ./model_checkpoint/assets\n"
     ]
    },
    {
     "name": "stderr",
     "output_type": "stream",
     "text": [
      "INFO:tensorflow:Assets written to: ./model_checkpoint/assets\n"
     ]
    },
    {
     "name": "stdout",
     "output_type": "stream",
     "text": [
      "1/1 [==============================] - 4s 4s/step - loss: 0.5771 - mean_absolute_error: 0.1049 - val_loss: 0.5733 - val_mean_absolute_error: 0.1779\n",
      "Epoch 35/50\n",
      "1/1 [==============================] - ETA: 0s - loss: 0.6285 - mean_absolute_error: 0.2002"
     ]
    },
    {
     "name": "stderr",
     "output_type": "stream",
     "text": [
      "WARNING:absl:Found untraced functions such as _jit_compiled_convolution_op, _jit_compiled_convolution_op, _jit_compiled_convolution_op, _jit_compiled_convolution_op, _jit_compiled_convolution_op while saving (showing 5 of 13). These functions will not be directly callable after loading.\n"
     ]
    },
    {
     "name": "stdout",
     "output_type": "stream",
     "text": [
      "INFO:tensorflow:Assets written to: ./model_checkpoint/assets\n"
     ]
    },
    {
     "name": "stderr",
     "output_type": "stream",
     "text": [
      "INFO:tensorflow:Assets written to: ./model_checkpoint/assets\n"
     ]
    },
    {
     "name": "stdout",
     "output_type": "stream",
     "text": [
      "1/1 [==============================] - 4s 4s/step - loss: 0.6285 - mean_absolute_error: 0.2002 - val_loss: 0.5885 - val_mean_absolute_error: 0.1999\n",
      "Epoch 36/50\n",
      "1/1 [==============================] - ETA: 0s - loss: 0.6524 - mean_absolute_error: 0.2220"
     ]
    },
    {
     "name": "stderr",
     "output_type": "stream",
     "text": [
      "WARNING:absl:Found untraced functions such as _jit_compiled_convolution_op, _jit_compiled_convolution_op, _jit_compiled_convolution_op, _jit_compiled_convolution_op, _jit_compiled_convolution_op while saving (showing 5 of 13). These functions will not be directly callable after loading.\n"
     ]
    },
    {
     "name": "stdout",
     "output_type": "stream",
     "text": [
      "INFO:tensorflow:Assets written to: ./model_checkpoint/assets\n"
     ]
    },
    {
     "name": "stderr",
     "output_type": "stream",
     "text": [
      "INFO:tensorflow:Assets written to: ./model_checkpoint/assets\n"
     ]
    },
    {
     "name": "stdout",
     "output_type": "stream",
     "text": [
      "1/1 [==============================] - 4s 4s/step - loss: 0.6524 - mean_absolute_error: 0.2220 - val_loss: 0.5754 - val_mean_absolute_error: 0.1000\n",
      "Epoch 37/50\n",
      "1/1 [==============================] - ETA: 0s - loss: 0.5632 - mean_absolute_error: 0.1290"
     ]
    },
    {
     "name": "stderr",
     "output_type": "stream",
     "text": [
      "WARNING:absl:Found untraced functions such as _jit_compiled_convolution_op, _jit_compiled_convolution_op, _jit_compiled_convolution_op, _jit_compiled_convolution_op, _jit_compiled_convolution_op while saving (showing 5 of 13). These functions will not be directly callable after loading.\n"
     ]
    },
    {
     "name": "stdout",
     "output_type": "stream",
     "text": [
      "INFO:tensorflow:Assets written to: ./model_checkpoint/assets\n"
     ]
    },
    {
     "name": "stderr",
     "output_type": "stream",
     "text": [
      "INFO:tensorflow:Assets written to: ./model_checkpoint/assets\n"
     ]
    },
    {
     "name": "stdout",
     "output_type": "stream",
     "text": [
      "1/1 [==============================] - 4s 4s/step - loss: 0.5632 - mean_absolute_error: 0.1290 - val_loss: 0.6320 - val_mean_absolute_error: 0.1992\n",
      "Epoch 38/50\n",
      "1/1 [==============================] - ETA: 0s - loss: 0.6154 - mean_absolute_error: 0.1966"
     ]
    },
    {
     "name": "stderr",
     "output_type": "stream",
     "text": [
      "WARNING:absl:Found untraced functions such as _jit_compiled_convolution_op, _jit_compiled_convolution_op, _jit_compiled_convolution_op, _jit_compiled_convolution_op, _jit_compiled_convolution_op while saving (showing 5 of 13). These functions will not be directly callable after loading.\n"
     ]
    },
    {
     "name": "stdout",
     "output_type": "stream",
     "text": [
      "INFO:tensorflow:Assets written to: ./model_checkpoint/assets\n"
     ]
    },
    {
     "name": "stderr",
     "output_type": "stream",
     "text": [
      "INFO:tensorflow:Assets written to: ./model_checkpoint/assets\n"
     ]
    },
    {
     "name": "stdout",
     "output_type": "stream",
     "text": [
      "1/1 [==============================] - 4s 4s/step - loss: 0.6154 - mean_absolute_error: 0.1966 - val_loss: 0.6148 - val_mean_absolute_error: 0.2082\n",
      "Epoch 39/50\n",
      "1/1 [==============================] - ETA: 0s - loss: 0.6239 - mean_absolute_error: 0.2082"
     ]
    },
    {
     "name": "stderr",
     "output_type": "stream",
     "text": [
      "WARNING:absl:Found untraced functions such as _jit_compiled_convolution_op, _jit_compiled_convolution_op, _jit_compiled_convolution_op, _jit_compiled_convolution_op, _jit_compiled_convolution_op while saving (showing 5 of 13). These functions will not be directly callable after loading.\n"
     ]
    },
    {
     "name": "stdout",
     "output_type": "stream",
     "text": [
      "INFO:tensorflow:Assets written to: ./model_checkpoint/assets\n"
     ]
    },
    {
     "name": "stderr",
     "output_type": "stream",
     "text": [
      "INFO:tensorflow:Assets written to: ./model_checkpoint/assets\n"
     ]
    },
    {
     "name": "stdout",
     "output_type": "stream",
     "text": [
      "1/1 [==============================] - 4s 4s/step - loss: 0.6239 - mean_absolute_error: 0.2082 - val_loss: 0.5220 - val_mean_absolute_error: 0.0705\n",
      "Epoch 40/50\n",
      "1/1 [==============================] - ETA: 0s - loss: 0.5688 - mean_absolute_error: 0.1062"
     ]
    },
    {
     "name": "stderr",
     "output_type": "stream",
     "text": [
      "WARNING:absl:Found untraced functions such as _jit_compiled_convolution_op, _jit_compiled_convolution_op, _jit_compiled_convolution_op, _jit_compiled_convolution_op, _jit_compiled_convolution_op while saving (showing 5 of 13). These functions will not be directly callable after loading.\n"
     ]
    },
    {
     "name": "stdout",
     "output_type": "stream",
     "text": [
      "INFO:tensorflow:Assets written to: ./model_checkpoint/assets\n"
     ]
    },
    {
     "name": "stderr",
     "output_type": "stream",
     "text": [
      "INFO:tensorflow:Assets written to: ./model_checkpoint/assets\n"
     ]
    },
    {
     "name": "stdout",
     "output_type": "stream",
     "text": [
      "1/1 [==============================] - 4s 4s/step - loss: 0.5688 - mean_absolute_error: 0.1062 - val_loss: 0.5933 - val_mean_absolute_error: 0.1843\n",
      "Epoch 41/50\n",
      "1/1 [==============================] - ETA: 0s - loss: 0.6420 - mean_absolute_error: 0.1902"
     ]
    },
    {
     "name": "stderr",
     "output_type": "stream",
     "text": [
      "WARNING:absl:Found untraced functions such as _jit_compiled_convolution_op, _jit_compiled_convolution_op, _jit_compiled_convolution_op, _jit_compiled_convolution_op, _jit_compiled_convolution_op while saving (showing 5 of 13). These functions will not be directly callable after loading.\n"
     ]
    },
    {
     "name": "stdout",
     "output_type": "stream",
     "text": [
      "INFO:tensorflow:Assets written to: ./model_checkpoint/assets\n"
     ]
    },
    {
     "name": "stderr",
     "output_type": "stream",
     "text": [
      "INFO:tensorflow:Assets written to: ./model_checkpoint/assets\n"
     ]
    },
    {
     "name": "stdout",
     "output_type": "stream",
     "text": [
      "1/1 [==============================] - 4s 4s/step - loss: 0.6420 - mean_absolute_error: 0.1902 - val_loss: 0.6053 - val_mean_absolute_error: 0.1821\n",
      "Epoch 42/50\n",
      "1/1 [==============================] - ETA: 0s - loss: 0.6136 - mean_absolute_error: 0.2014"
     ]
    },
    {
     "name": "stderr",
     "output_type": "stream",
     "text": [
      "WARNING:absl:Found untraced functions such as _jit_compiled_convolution_op, _jit_compiled_convolution_op, _jit_compiled_convolution_op, _jit_compiled_convolution_op, _jit_compiled_convolution_op while saving (showing 5 of 13). These functions will not be directly callable after loading.\n"
     ]
    },
    {
     "name": "stdout",
     "output_type": "stream",
     "text": [
      "INFO:tensorflow:Assets written to: ./model_checkpoint/assets\n"
     ]
    },
    {
     "name": "stderr",
     "output_type": "stream",
     "text": [
      "INFO:tensorflow:Assets written to: ./model_checkpoint/assets\n"
     ]
    },
    {
     "name": "stdout",
     "output_type": "stream",
     "text": [
      "1/1 [==============================] - 4s 4s/step - loss: 0.6136 - mean_absolute_error: 0.2014 - val_loss: 0.5697 - val_mean_absolute_error: 0.1106\n",
      "Epoch 43/50\n",
      "1/1 [==============================] - ETA: 0s - loss: 0.5707 - mean_absolute_error: 0.1406"
     ]
    },
    {
     "name": "stderr",
     "output_type": "stream",
     "text": [
      "WARNING:absl:Found untraced functions such as _jit_compiled_convolution_op, _jit_compiled_convolution_op, _jit_compiled_convolution_op, _jit_compiled_convolution_op, _jit_compiled_convolution_op while saving (showing 5 of 13). These functions will not be directly callable after loading.\n"
     ]
    },
    {
     "name": "stdout",
     "output_type": "stream",
     "text": [
      "INFO:tensorflow:Assets written to: ./model_checkpoint/assets\n"
     ]
    },
    {
     "name": "stderr",
     "output_type": "stream",
     "text": [
      "INFO:tensorflow:Assets written to: ./model_checkpoint/assets\n"
     ]
    },
    {
     "name": "stdout",
     "output_type": "stream",
     "text": [
      "1/1 [==============================] - 4s 4s/step - loss: 0.5707 - mean_absolute_error: 0.1406 - val_loss: 0.5443 - val_mean_absolute_error: 0.0780\n",
      "Epoch 44/50\n",
      "1/1 [==============================] - ETA: 0s - loss: 0.5722 - mean_absolute_error: 0.1164"
     ]
    },
    {
     "name": "stderr",
     "output_type": "stream",
     "text": [
      "WARNING:absl:Found untraced functions such as _jit_compiled_convolution_op, _jit_compiled_convolution_op, _jit_compiled_convolution_op, _jit_compiled_convolution_op, _jit_compiled_convolution_op while saving (showing 5 of 13). These functions will not be directly callable after loading.\n"
     ]
    },
    {
     "name": "stdout",
     "output_type": "stream",
     "text": [
      "INFO:tensorflow:Assets written to: ./model_checkpoint/assets\n"
     ]
    },
    {
     "name": "stderr",
     "output_type": "stream",
     "text": [
      "INFO:tensorflow:Assets written to: ./model_checkpoint/assets\n"
     ]
    },
    {
     "name": "stdout",
     "output_type": "stream",
     "text": [
      "1/1 [==============================] - 4s 4s/step - loss: 0.5722 - mean_absolute_error: 0.1164 - val_loss: 0.5595 - val_mean_absolute_error: 0.1226\n",
      "Epoch 45/50\n",
      "1/1 [==============================] - ETA: 0s - loss: 0.6079 - mean_absolute_error: 0.1383"
     ]
    },
    {
     "name": "stderr",
     "output_type": "stream",
     "text": [
      "WARNING:absl:Found untraced functions such as _jit_compiled_convolution_op, _jit_compiled_convolution_op, _jit_compiled_convolution_op, _jit_compiled_convolution_op, _jit_compiled_convolution_op while saving (showing 5 of 13). These functions will not be directly callable after loading.\n"
     ]
    },
    {
     "name": "stdout",
     "output_type": "stream",
     "text": [
      "INFO:tensorflow:Assets written to: ./model_checkpoint/assets\n"
     ]
    },
    {
     "name": "stderr",
     "output_type": "stream",
     "text": [
      "INFO:tensorflow:Assets written to: ./model_checkpoint/assets\n"
     ]
    },
    {
     "name": "stdout",
     "output_type": "stream",
     "text": [
      "1/1 [==============================] - 4s 4s/step - loss: 0.6079 - mean_absolute_error: 0.1383 - val_loss: 0.5805 - val_mean_absolute_error: 0.1352\n",
      "Epoch 46/50\n",
      "1/1 [==============================] - ETA: 0s - loss: 0.5871 - mean_absolute_error: 0.1377"
     ]
    },
    {
     "name": "stderr",
     "output_type": "stream",
     "text": [
      "WARNING:absl:Found untraced functions such as _jit_compiled_convolution_op, _jit_compiled_convolution_op, _jit_compiled_convolution_op, _jit_compiled_convolution_op, _jit_compiled_convolution_op while saving (showing 5 of 13). These functions will not be directly callable after loading.\n"
     ]
    },
    {
     "name": "stdout",
     "output_type": "stream",
     "text": [
      "INFO:tensorflow:Assets written to: ./model_checkpoint/assets\n"
     ]
    },
    {
     "name": "stderr",
     "output_type": "stream",
     "text": [
      "INFO:tensorflow:Assets written to: ./model_checkpoint/assets\n"
     ]
    },
    {
     "name": "stdout",
     "output_type": "stream",
     "text": [
      "1/1 [==============================] - 4s 4s/step - loss: 0.5871 - mean_absolute_error: 0.1377 - val_loss: 0.5735 - val_mean_absolute_error: 0.0852\n",
      "Epoch 47/50\n",
      "1/1 [==============================] - ETA: 0s - loss: 0.5660 - mean_absolute_error: 0.1180"
     ]
    },
    {
     "name": "stderr",
     "output_type": "stream",
     "text": [
      "WARNING:absl:Found untraced functions such as _jit_compiled_convolution_op, _jit_compiled_convolution_op, _jit_compiled_convolution_op, _jit_compiled_convolution_op, _jit_compiled_convolution_op while saving (showing 5 of 13). These functions will not be directly callable after loading.\n"
     ]
    },
    {
     "name": "stdout",
     "output_type": "stream",
     "text": [
      "INFO:tensorflow:Assets written to: ./model_checkpoint/assets\n"
     ]
    },
    {
     "name": "stderr",
     "output_type": "stream",
     "text": [
      "INFO:tensorflow:Assets written to: ./model_checkpoint/assets\n"
     ]
    },
    {
     "name": "stdout",
     "output_type": "stream",
     "text": [
      "1/1 [==============================] - 4s 4s/step - loss: 0.5660 - mean_absolute_error: 0.1180 - val_loss: 0.5997 - val_mean_absolute_error: 0.1084\n",
      "Epoch 48/50\n",
      "1/1 [==============================] - ETA: 0s - loss: 0.5746 - mean_absolute_error: 0.1265"
     ]
    },
    {
     "name": "stderr",
     "output_type": "stream",
     "text": [
      "WARNING:absl:Found untraced functions such as _jit_compiled_convolution_op, _jit_compiled_convolution_op, _jit_compiled_convolution_op, _jit_compiled_convolution_op, _jit_compiled_convolution_op while saving (showing 5 of 13). These functions will not be directly callable after loading.\n"
     ]
    },
    {
     "name": "stdout",
     "output_type": "stream",
     "text": [
      "INFO:tensorflow:Assets written to: ./model_checkpoint/assets\n"
     ]
    },
    {
     "name": "stderr",
     "output_type": "stream",
     "text": [
      "INFO:tensorflow:Assets written to: ./model_checkpoint/assets\n"
     ]
    },
    {
     "name": "stdout",
     "output_type": "stream",
     "text": [
      "1/1 [==============================] - 4s 4s/step - loss: 0.5746 - mean_absolute_error: 0.1265 - val_loss: 0.6019 - val_mean_absolute_error: 0.1245\n",
      "Epoch 49/50\n",
      "1/1 [==============================] - ETA: 0s - loss: 0.6014 - mean_absolute_error: 0.1500"
     ]
    },
    {
     "name": "stderr",
     "output_type": "stream",
     "text": [
      "WARNING:absl:Found untraced functions such as _jit_compiled_convolution_op, _jit_compiled_convolution_op, _jit_compiled_convolution_op, _jit_compiled_convolution_op, _jit_compiled_convolution_op while saving (showing 5 of 13). These functions will not be directly callable after loading.\n"
     ]
    },
    {
     "name": "stdout",
     "output_type": "stream",
     "text": [
      "INFO:tensorflow:Assets written to: ./model_checkpoint/assets\n"
     ]
    },
    {
     "name": "stderr",
     "output_type": "stream",
     "text": [
      "INFO:tensorflow:Assets written to: ./model_checkpoint/assets\n"
     ]
    },
    {
     "name": "stdout",
     "output_type": "stream",
     "text": [
      "1/1 [==============================] - 4s 4s/step - loss: 0.6014 - mean_absolute_error: 0.1500 - val_loss: 0.5733 - val_mean_absolute_error: 0.1097\n",
      "Epoch 50/50\n",
      "1/1 [==============================] - ETA: 0s - loss: 0.6008 - mean_absolute_error: 0.1235"
     ]
    },
    {
     "name": "stderr",
     "output_type": "stream",
     "text": [
      "WARNING:absl:Found untraced functions such as _jit_compiled_convolution_op, _jit_compiled_convolution_op, _jit_compiled_convolution_op, _jit_compiled_convolution_op, _jit_compiled_convolution_op while saving (showing 5 of 13). These functions will not be directly callable after loading.\n"
     ]
    },
    {
     "name": "stdout",
     "output_type": "stream",
     "text": [
      "INFO:tensorflow:Assets written to: ./model_checkpoint/assets\n"
     ]
    },
    {
     "name": "stderr",
     "output_type": "stream",
     "text": [
      "INFO:tensorflow:Assets written to: ./model_checkpoint/assets\n"
     ]
    },
    {
     "name": "stdout",
     "output_type": "stream",
     "text": [
      "1/1 [==============================] - 4s 4s/step - loss: 0.6008 - mean_absolute_error: 0.1235 - val_loss: 0.5781 - val_mean_absolute_error: 0.0869\n"
     ]
    }
   ],
   "source": [
    "# fit model\n",
    "history = model.fit(train_dataset,\n",
    "                    epochs=config['n_epochs'],\n",
    "                    validation_data=test_dataset,\n",
    "                    callbacks=[save_callback, tensorboard_callback])\n",
    "\n",
    "# save model\n",
    "model.save('./model.keras')\n",
    "\n",
    "# save history\n",
    "with open('./history.json', 'w+') as fp:\n",
    "    json.dump(history.history, fp, sort_keys=True, indent=4)\n",
    "\n",
    "\n",
    "# call def to save audio to summaries\n",
    "save_audio_to_summaries(log_dir)\n"
   ]
  },
  {
   "attachments": {},
   "cell_type": "markdown",
   "metadata": {},
   "source": [
    "# check history and simple plot"
   ]
  },
  {
   "cell_type": "code",
   "execution_count": 35,
   "metadata": {},
   "outputs": [
    {
     "name": "stdout",
     "output_type": "stream",
     "text": [
      "dict_keys(['loss', 'mean_absolute_error', 'val_loss', 'val_mean_absolute_error'])\n"
     ]
    },
    {
     "data": {
      "image/png": "[encoded data removed]",
      "text/plain": [
       "<Figure size 640x480 with 1 Axes>"
      ]
     },
     "metadata": {},
     "output_type": "display_data"
    },
    {
     "data": {
      "image/png": "[encoded data removed]",
      "text/plain": [
       "<Figure size 640x480 with 1 Axes>"
      ]
     },
     "metadata": {},
     "output_type": "display_data"
    }
   ],
   "source": [
    "# open history\n",
    "with open('./history.json', 'r') as fp:\n",
    "  history = json.load(fp)\n",
    "\n",
    "# check out history keys\n",
    "print(history.keys())\n",
    "\n",
    "# simple plot losses\n",
    "train_loss = history['loss']\n",
    "eval_loss = history['val_loss']\n",
    "mae = history['mean_absolute_error']\n",
    "val_mae = history['val_mean_absolute_error']\n",
    "\n",
    "\n",
    "\n",
    "fig2 = plt.figure()\n",
    "plt.plot(range(config['n_epochs']), train_loss, label='train')\n",
    "plt.plot(range(config['n_epochs']), eval_loss, label='eval')\n",
    "plt.legend()\n",
    "plt.grid(True)\n",
    "plt.xlabel('Epochs')\n",
    "plt.ylabel('Custom Loss')\n",
    "plt.title('Training with ' \n",
    "                           + str(config['n_epochs'])\n",
    "                           + ' epochs \\n batch-size: '\n",
    "                           + str(config['batch_size']))\n",
    "                     \n",
    "plt.show()  \n",
    "\n",
    "\n",
    "fig3 = plt.figure()\n",
    "plt.plot(range(config['n_epochs']), mae, label='train')\n",
    "plt.plot(range(config['n_epochs']), val_mae, label='eval')\n",
    "plt.legend()\n",
    "plt.grid(True)\n",
    "plt.xlabel('Epochs')\n",
    "plt.ylabel('MAE Loss')\n",
    "plt.title('Training with ' \n",
    "                           + str(config['n_epochs'])\n",
    "                           + ' epochs \\n batch-size: '\n",
    "                           + str(config['batch_size']))\n",
    "                     \n",
    "plt.show()  "
   ]
  },
  {
   "attachments": {},
   "cell_type": "markdown",
   "metadata": {},
   "source": [
    "# Tensorboard"
   ]
  },
  {
   "cell_type": "code",
   "execution_count": null,
   "metadata": {},
   "outputs": [],
   "source": [
    "%tensorboard --logdir logs"
   ]
  },
  {
   "attachments": {},
   "cell_type": "markdown",
   "metadata": {},
   "source": [
    "# load model from disk and predict"
   ]
  },
  {
   "cell_type": "code",
   "execution_count": 36,
   "metadata": {},
   "outputs": [
    {
     "name": "stdout",
     "output_type": "stream",
     "text": [
      "WARNING:tensorflow:Model was constructed with shape (None, 132300, 1) for input KerasTensor(type_spec=TensorSpec(shape=(None, 132300, 1), dtype=tf.float32, name='input_3'), name='input_3', description=\"created by layer 'input_3'\"), but it was called on an input with incompatible shape (None, 1, 1).\n"
     ]
    },
    {
     "name": "stderr",
     "output_type": "stream",
     "text": [
      "WARNING:tensorflow:Model was constructed with shape (None, 132300, 1) for input KerasTensor(type_spec=TensorSpec(shape=(None, 132300, 1), dtype=tf.float32, name='input_3'), name='input_3', description=\"created by layer 'input_3'\"), but it was called on an input with incompatible shape (None, 1, 1).\n"
     ]
    },
    {
     "name": "stdout",
     "output_type": "stream",
     "text": [
      "4135/4135 [==============================] - 6s 1ms/step\n",
      "<dtype: 'float32'>\n",
      "(132300,)\n"
     ]
    }
   ],
   "source": [
    "# # load model\n",
    "reconstructed_model = keras.models.load_model('./model.keras', compile=False)\n",
    "#reconstructed_model.summary()\n",
    "\n",
    "# get audio file from model prediciton\n",
    "audio = reconstructed_model.predict(speech_for_predicition)\n",
    "\n",
    "\n",
    "\n",
    "# change shape to (len(audio), 1)\n",
    "audio = tf.squeeze(audio, axis=-1)\n",
    "audio = tf.squeeze(audio, axis=-1)\n",
    "\n",
    "\n",
    "\n",
    "print(audio.dtype)\n",
    "print(audio.shape)\n",
    "\n"
   ]
  },
  {
   "cell_type": "code",
   "execution_count": 37,
   "metadata": {},
   "outputs": [
    {
     "name": "stdout",
     "output_type": "stream",
     "text": [
      "tf.Tensor(\n",
      "[-0.13441592 -0.13441592 -0.13441594 ... -0.13441639 -0.13441597\n",
      " -0.1344159 ], shape=(132300,), dtype=float32)\n",
      "tf.Tensor([1.0003856 1.0003856 1.0003858 ... 1.0003891 1.0003859 1.0003854], shape=(132300,), dtype=float32)\n"
     ]
    }
   ],
   "source": [
    "print(audio)\n",
    "\n",
    "# normalize audio with numpy\n",
    "# audio = librosa.util.normalize(audio)\n",
    "\n",
    "# normalize audio with tensorflow\n",
    "audio = tf.math.divide(audio, tf.math.reduce_max(audio))\n",
    "print(audio)\n"
   ]
  },
  {
   "cell_type": "code",
   "execution_count": 38,
   "metadata": {},
   "outputs": [
    {
     "data": {
      "image/png": "[encoded data removed]",
      "text/plain": [
       "<Figure size 800x400 with 1 Axes>"
      ]
     },
     "metadata": {},
     "output_type": "display_data"
    }
   ],
   "source": [
    "\n",
    "# save plot to disk\n",
    "plt.figure(figsize=(8, 4))\n",
    "x = np.arange(0, len(audio)/44100, 1/44100)\n",
    "plt.plot(x, audio)\n",
    "plt.title('Audiofile')\n",
    "plt.xlabel('Time in s')\n",
    "plt.ylabel('Amplitude')\n",
    "plt.savefig(log_dir + '/_audiofile_Reconstructed_model..png')\n",
    "plt.show()\n",
    "\n",
    "# write audio file to disk (16-bit PCM WAV)\n",
    "write(log_dir + '/_audiofile_Reconstructed_model.wav', 44100, audio.numpy())"
   ]
  },
  {
   "attachments": {},
   "cell_type": "markdown",
   "metadata": {},
   "source": [
    "# look at data"
   ]
  },
  {
   "cell_type": "code",
   "execution_count": 12,
   "metadata": {},
   "outputs": [],
   "source": [
    "# # look at some example data from train dataset\n",
    "# wavs = train_dataset.unbatch().as_numpy_iterator()\n",
    "# noisy = []\n",
    "# gt = []\n",
    "\n",
    "# # Setup Subplot\n",
    "# nrows, ncols = 2, 2\n",
    "# fig, ax = plt.subplots(nrows=nrows, ncols=ncols, sharex=True, figsize=(16, 9))\n",
    "\n",
    "\n",
    "# # iterate over dataset\n",
    "# for i, sample in enumerate(wavs):\n",
    "    \n",
    "#     # get the column and row by modulo and remainder\n",
    "#     j = i % ncols\n",
    "#     k = int(i / ncols)\n",
    "    \n",
    "#     # extract noisy and produced speech file from tensors\n",
    "#     wave = sample[0]\n",
    "#     ground_truth = sample[1]\n",
    "        \n",
    "#     # plot files\n",
    "#     librosa.display.waveshow(np.squeeze(wave), x_axis='time', sr=config['sr'], ax=ax[k][j], label='test_file')\n",
    "#     librosa.display.waveshow(np.squeeze(ground_truth), alpha=0.3, x_axis='time', sr=config['sr'], ax=ax[k][j], label='ground_truth')\n",
    "#     ax[k][j].legend()\n",
    "#     ax[k][j].axis('on')\n",
    "#     ax[k][j].set_title('10s speech')  \n",
    "\n",
    "#     # save speech to arrays\n",
    "#     noisy.append(np.squeeze(wave))\n",
    "#     gt.append(np.squeeze(ground_truth))\n",
    "    \n",
    "#     if i+1 == ncols*nrows:\n",
    "#         break\n",
    "    \n",
    "# # adjust whitespace in between subplots        \n",
    "# plt.subplots_adjust(hspace=0.25, wspace=0.15)\n",
    "# plt.show()\n",
    "\n",
    "\n",
    "# # listen to the audio samples\n",
    "# for i in range(len(gt)):\n",
    "#     print(f'----------- {i+1}. speechsnippet ---------------')\n",
    "#     print('')\n",
    "#     print(f'Voicefixer file')\n",
    "#     pd.display(pd.Audio(noisy[i].T, rate=config['sr']))\n",
    "#     print(f'corresponding produced file')\n",
    "#     pd.display(pd.Audio(gt[i].T, rate=config['sr']))\n",
    "#     print('')"
   ]
  }
 ],
 "metadata": {
  "kernelspec": {
   "display_name": "Masterarbeit",
   "language": "python",
   "name": "python3"
  },
  "language_info": {
   "codemirror_mode": {
    "name": "ipython",
    "version": 3
   },
   "file_extension": ".py",
   "mimetype": "text/x-python",
   "name": "python",
   "nbconvert_exporter": "python",
   "pygments_lexer": "ipython3",
   "version": "3.9.16"
  },
  "orig_nbformat": 4
 },
 "nbformat": 4,
 "nbformat_minor": 2
}
